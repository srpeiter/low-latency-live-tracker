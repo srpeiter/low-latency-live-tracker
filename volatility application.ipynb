{
 "cells": [
  {
   "cell_type": "markdown",
   "id": "fbcfc782",
   "metadata": {},
   "source": [
    "Let's see if I understand the problem:\n",
    "\n",
    "> An asset listed on a exchange is prone to sharp price fluctuations within a short time scale. This has various reasons such as release of big news, sudden large purchase or release of that asset. These large fluctuations often occur on large exchanges like **Binance** etc.\n",
    "\n",
    "> Now if a market maker like Fourstroke is trading this asset at a speed slower than the timescale of the fluctuations, the risk of not noticing this rapid change in price and miss on the opportunity to capitalize on this or even worse: they risk of being arbitraged by other market maker \n",
    "\n",
    "> The task is to develop an application to track these sharp price fluctuations and warn the trading system such that it can adjust it bid-ask price on time! \n",
    "\n",
    "> Basically, create a program that measures the volatility of a given asset with high resolution\n",
    "\n",
    "For creating this application, I will be developing code on a **google cloud computing engine**. My local computer ram is overloaded and is really slow. This notebook can also be run on my local computer."
   ]
  },
  {
   "cell_type": "markdown",
   "id": "5360be6b",
   "metadata": {},
   "source": [
    "Let's concretize this problem is a bit.:\n",
    "- We will be using data from binance crypto exchange. Later we will generalize this to different exchanges\n",
    "\n",
    "- Let's first start simple and check the internet for a library which does this for us. Then we can move on optimize stuff.\n",
    "\n",
    "- Found an interesting library in python that basically acts as a single wrapper around APIs of different crypto exchanges: ccxt (https://github.com/ccxt/ccxt)"
   ]
  },
  {
   "cell_type": "markdown",
   "id": "cd335856",
   "metadata": {},
   "source": [
    "Do I need credentials to make use of binance API? Let's first understand how the ccxt API works"
   ]
  },
  {
   "cell_type": "markdown",
   "id": "16a0419c",
   "metadata": {},
   "source": [
    "# CCXT API"
   ]
  },
  {
   "cell_type": "code",
   "execution_count": 1,
   "id": "163867f7",
   "metadata": {},
   "outputs": [],
   "source": [
    "import ccxt\n",
    "import pandas as pd"
   ]
  },
  {
   "cell_type": "code",
   "execution_count": 2,
   "id": "a9b26986",
   "metadata": {},
   "outputs": [
    {
     "name": "stdout",
     "output_type": "stream",
     "text": [
      "['aax', 'ascendex', 'bequant', 'bibox', 'bigone', 'binance', 'binancecoinm', 'binanceus', 'binanceusdm', 'bit2c', 'bitbank', 'bitbay', 'bitbns', 'bitcoincom', 'bitfinex', 'bitfinex2', 'bitflyer', 'bitforex', 'bitget', 'bithumb', 'bitmart', 'bitmex', 'bitopro', 'bitpanda', 'bitrue', 'bitso', 'bitstamp', 'bitstamp1', 'bittrex', 'bitvavo', 'bkex', 'bl3p', 'blockchaincom', 'btcalpha', 'btcbox', 'btcex', 'btcmarkets', 'btctradeua', 'btcturk', 'buda', 'bw', 'bybit', 'bytetrade', 'cdax', 'cex', 'coinbase', 'coinbaseprime', 'coinbasepro', 'coincheck', 'coinex', 'coinfalcon', 'coinflex', 'coinmate', 'coinone', 'coinspot', 'crex24', 'cryptocom', 'currencycom', 'delta', 'deribit', 'digifinex', 'eqonex', 'exmo', 'flowbtc', 'fmfwio', 'ftx', 'ftxus', 'gate', 'gateio', 'gemini', 'hitbtc', 'hitbtc3', 'hollaex', 'huobi', 'huobijp', 'huobipro', 'idex', 'independentreserve', 'indodax', 'itbit', 'kraken', 'kucoin', 'kucoinfutures', 'kuna', 'latoken', 'lbank', 'lbank2', 'liquid', 'luno', 'lykke', 'mercado', 'mexc', 'mexc3', 'ndax', 'novadax', 'oceanex', 'okcoin', 'okex', 'okex5', 'okx', 'paymium', 'phemex', 'poloniex', 'probit', 'qtrade', 'ripio', 'stex', 'therock', 'tidebit', 'tidex', 'timex', 'upbit', 'vcc', 'wavesexchange', 'wazirx', 'whitebit', 'woo', 'xena', 'yobit', 'zaif', 'zb', 'zipmex', 'zonda']\n"
     ]
    }
   ],
   "source": [
    "print(ccxt.exchanges)"
   ]
  },
  {
   "cell_type": "markdown",
   "id": "3ac734ad",
   "metadata": {},
   "source": [
    "The BTC/USDT Coin-M future is listed on https://www.binance.com/en/delivery/btcusd_perpetual"
   ]
  },
  {
   "cell_type": "code",
   "execution_count": null,
   "id": "08706474",
   "metadata": {},
   "outputs": [],
   "source": [
    "coinm = ccxt.binancecoinm()\n",
    "markets = coinm.load_markets()\n",
    "print(coinm.id, markets)"
   ]
  },
  {
   "cell_type": "code",
   "execution_count": 3,
   "id": "e423b3aa",
   "metadata": {
    "scrolled": true
   },
   "outputs": [
    {
     "data": {
      "text/html": [
       "<div>\n",
       "<style scoped>\n",
       "    .dataframe tbody tr th:only-of-type {\n",
       "        vertical-align: middle;\n",
       "    }\n",
       "\n",
       "    .dataframe tbody tr th {\n",
       "        vertical-align: top;\n",
       "    }\n",
       "\n",
       "    .dataframe thead th {\n",
       "        text-align: right;\n",
       "    }\n",
       "</style>\n",
       "<table border=\"1\" class=\"dataframe\">\n",
       "  <thead>\n",
       "    <tr style=\"text-align: right;\">\n",
       "      <th></th>\n",
       "      <th>symbol</th>\n",
       "      <th>bids</th>\n",
       "      <th>asks</th>\n",
       "      <th>timestamp</th>\n",
       "      <th>datetime</th>\n",
       "      <th>nonce</th>\n",
       "    </tr>\n",
       "  </thead>\n",
       "  <tbody>\n",
       "    <tr>\n",
       "      <th>0</th>\n",
       "      <td>BTC/USD</td>\n",
       "      <td>[19939.3, 1527.0]</td>\n",
       "      <td>[19939.4, 4414.0]</td>\n",
       "      <td>1657644180204</td>\n",
       "      <td>2022-07-12T16:43:00.204Z</td>\n",
       "      <td>506748359659</td>\n",
       "    </tr>\n",
       "    <tr>\n",
       "      <th>1</th>\n",
       "      <td>BTC/USD</td>\n",
       "      <td>[19939.1, 1.0]</td>\n",
       "      <td>[19939.6, 21.0]</td>\n",
       "      <td>1657644180204</td>\n",
       "      <td>2022-07-12T16:43:00.204Z</td>\n",
       "      <td>506748359659</td>\n",
       "    </tr>\n",
       "    <tr>\n",
       "      <th>2</th>\n",
       "      <td>BTC/USD</td>\n",
       "      <td>[19939.0, 2.0]</td>\n",
       "      <td>[19939.7, 10.0]</td>\n",
       "      <td>1657644180204</td>\n",
       "      <td>2022-07-12T16:43:00.204Z</td>\n",
       "      <td>506748359659</td>\n",
       "    </tr>\n",
       "    <tr>\n",
       "      <th>3</th>\n",
       "      <td>BTC/USD</td>\n",
       "      <td>[19938.9, 1.0]</td>\n",
       "      <td>[19939.8, 1.0]</td>\n",
       "      <td>1657644180204</td>\n",
       "      <td>2022-07-12T16:43:00.204Z</td>\n",
       "      <td>506748359659</td>\n",
       "    </tr>\n",
       "    <tr>\n",
       "      <th>4</th>\n",
       "      <td>BTC/USD</td>\n",
       "      <td>[19938.7, 2.0]</td>\n",
       "      <td>[19939.9, 99.0]</td>\n",
       "      <td>1657644180204</td>\n",
       "      <td>2022-07-12T16:43:00.204Z</td>\n",
       "      <td>506748359659</td>\n",
       "    </tr>\n",
       "    <tr>\n",
       "      <th>...</th>\n",
       "      <td>...</td>\n",
       "      <td>...</td>\n",
       "      <td>...</td>\n",
       "      <td>...</td>\n",
       "      <td>...</td>\n",
       "      <td>...</td>\n",
       "    </tr>\n",
       "    <tr>\n",
       "      <th>495</th>\n",
       "      <td>BTC/USD</td>\n",
       "      <td>[19736.3, 193.0]</td>\n",
       "      <td>[20159.3, 1.0]</td>\n",
       "      <td>1657644180204</td>\n",
       "      <td>2022-07-12T16:43:00.204Z</td>\n",
       "      <td>506748359659</td>\n",
       "    </tr>\n",
       "    <tr>\n",
       "      <th>496</th>\n",
       "      <td>BTC/USD</td>\n",
       "      <td>[19736.0, 2.0]</td>\n",
       "      <td>[20160.0, 5.0]</td>\n",
       "      <td>1657644180204</td>\n",
       "      <td>2022-07-12T16:43:00.204Z</td>\n",
       "      <td>506748359659</td>\n",
       "    </tr>\n",
       "    <tr>\n",
       "      <th>497</th>\n",
       "      <td>BTC/USD</td>\n",
       "      <td>[19735.2, 205.0]</td>\n",
       "      <td>[20160.3, 199.0]</td>\n",
       "      <td>1657644180204</td>\n",
       "      <td>2022-07-12T16:43:00.204Z</td>\n",
       "      <td>506748359659</td>\n",
       "    </tr>\n",
       "    <tr>\n",
       "      <th>498</th>\n",
       "      <td>BTC/USD</td>\n",
       "      <td>[19735.0, 33.0]</td>\n",
       "      <td>[20164.1, 160.0]</td>\n",
       "      <td>1657644180204</td>\n",
       "      <td>2022-07-12T16:43:00.204Z</td>\n",
       "      <td>506748359659</td>\n",
       "    </tr>\n",
       "    <tr>\n",
       "      <th>499</th>\n",
       "      <td>BTC/USD</td>\n",
       "      <td>[19733.9, 16.0]</td>\n",
       "      <td>[20165.1, 191.0]</td>\n",
       "      <td>1657644180204</td>\n",
       "      <td>2022-07-12T16:43:00.204Z</td>\n",
       "      <td>506748359659</td>\n",
       "    </tr>\n",
       "  </tbody>\n",
       "</table>\n",
       "<p>500 rows × 6 columns</p>\n",
       "</div>"
      ],
      "text/plain": [
       "      symbol               bids               asks      timestamp  \\\n",
       "0    BTC/USD  [19939.3, 1527.0]  [19939.4, 4414.0]  1657644180204   \n",
       "1    BTC/USD     [19939.1, 1.0]    [19939.6, 21.0]  1657644180204   \n",
       "2    BTC/USD     [19939.0, 2.0]    [19939.7, 10.0]  1657644180204   \n",
       "3    BTC/USD     [19938.9, 1.0]     [19939.8, 1.0]  1657644180204   \n",
       "4    BTC/USD     [19938.7, 2.0]    [19939.9, 99.0]  1657644180204   \n",
       "..       ...                ...                ...            ...   \n",
       "495  BTC/USD   [19736.3, 193.0]     [20159.3, 1.0]  1657644180204   \n",
       "496  BTC/USD     [19736.0, 2.0]     [20160.0, 5.0]  1657644180204   \n",
       "497  BTC/USD   [19735.2, 205.0]   [20160.3, 199.0]  1657644180204   \n",
       "498  BTC/USD    [19735.0, 33.0]   [20164.1, 160.0]  1657644180204   \n",
       "499  BTC/USD    [19733.9, 16.0]   [20165.1, 191.0]  1657644180204   \n",
       "\n",
       "                     datetime         nonce  \n",
       "0    2022-07-12T16:43:00.204Z  506748359659  \n",
       "1    2022-07-12T16:43:00.204Z  506748359659  \n",
       "2    2022-07-12T16:43:00.204Z  506748359659  \n",
       "3    2022-07-12T16:43:00.204Z  506748359659  \n",
       "4    2022-07-12T16:43:00.204Z  506748359659  \n",
       "..                        ...           ...  \n",
       "495  2022-07-12T16:43:00.204Z  506748359659  \n",
       "496  2022-07-12T16:43:00.204Z  506748359659  \n",
       "497  2022-07-12T16:43:00.204Z  506748359659  \n",
       "498  2022-07-12T16:43:00.204Z  506748359659  \n",
       "499  2022-07-12T16:43:00.204Z  506748359659  \n",
       "\n",
       "[500 rows x 6 columns]"
      ]
     },
     "execution_count": 3,
     "metadata": {},
     "output_type": "execute_result"
    }
   ],
   "source": [
    "pd.DataFrame(ccxt.binancecoinm().fetch_order_book('BTC/USD'))"
   ]
  },
  {
   "cell_type": "markdown",
   "id": "6ea1224a",
   "metadata": {},
   "source": [
    "We want to get a continious stream of data. The standard CCXT library does not provide this. The pro version does, but we have to pay for it. Let's check for other libraries which do support websocket data stream.\n",
    "Found a python-binance-connector library, which automatically opens up a websocket connection for us, sends a request to the server and retrieves the data (https://github.com/binance/binance-futures-connector-python)."
   ]
  },
  {
   "cell_type": "markdown",
   "id": "1d9e831b",
   "metadata": {},
   "source": [
    "# python-binance-connector API"
   ]
  },
  {
   "cell_type": "code",
   "execution_count": 4,
   "id": "2bb5d677",
   "metadata": {},
   "outputs": [
    {
     "name": "stderr",
     "output_type": "stream",
     "text": [
      "INFO:root:Connection with URL: wss://dstream.binance.com/ws\n",
      "INFO:root:Start to connect....\n",
      "INFO:root:Server connected\n",
      "INFO:root:Sending message to Server: b'{\"method\": \"SUBSCRIBE\", \"params\": [\"btcusd_perp@bookTicker\"], \"id\": 13}'\n"
     ]
    },
    {
     "name": "stdout",
     "output_type": "stream",
     "text": [
      "{'id': 13, 'result': None}\n",
      "{'u': 506748381173, 'e': 'bookTicker', 's': 'BTCUSD_PERP', 'ps': 'BTCUSD', 'b': '19939.3', 'B': '1157', 'a': '19939.4', 'A': '4942', 'T': 1657644184321, 'E': 1657644184327}\n",
      "{'u': 506748381185, 'e': 'bookTicker', 's': 'BTCUSD_PERP', 'ps': 'BTCUSD', 'b': '19939.3', 'B': '757', 'a': '19939.4', 'A': '4942', 'T': 1657644184323, 'E': 1657644184329}\n",
      "{'u': 506748381223, 'e': 'bookTicker', 's': 'BTCUSD_PERP', 'ps': 'BTCUSD', 'b': '19939.3', 'B': '757', 'a': '19939.4', 'A': '5442', 'T': 1657644184325, 'E': 1657644184330}\n",
      "{'u': 506748381242, 'e': 'bookTicker', 's': 'BTCUSD_PERP', 'ps': 'BTCUSD', 'b': '19939.3', 'B': '757', 'a': '19939.4', 'A': '5452', 'T': 1657644184326, 'E': 1657644184332}\n",
      "{'u': 506748381254, 'e': 'bookTicker', 's': 'BTCUSD_PERP', 'ps': 'BTCUSD', 'b': '19939.3', 'B': '706', 'a': '19939.4', 'A': '5452', 'T': 1657644184327, 'E': 1657644184332}\n",
      "{'u': 506748381258, 'e': 'bookTicker', 's': 'BTCUSD_PERP', 'ps': 'BTCUSD', 'b': '19939.3', 'B': '541', 'a': '19939.4', 'A': '5452', 'T': 1657644184327, 'E': 1657644184332}\n",
      "{'u': 506748381260, 'e': 'bookTicker', 's': 'BTCUSD_PERP', 'ps': 'BTCUSD', 'b': '19939.3', 'B': '503', 'a': '19939.4', 'A': '5452', 'T': 1657644184327, 'E': 1657644184332}\n",
      "{'u': 506748381350, 'e': 'bookTicker', 's': 'BTCUSD_PERP', 'ps': 'BTCUSD', 'b': '19939.3', 'B': '453', 'a': '19939.4', 'A': '5452', 'T': 1657644184333, 'E': 1657644184338}\n",
      "{'u': 506748381373, 'e': 'bookTicker', 's': 'BTCUSD_PERP', 'ps': 'BTCUSD', 'b': '19939.3', 'B': '449', 'a': '19939.4', 'A': '5452', 'T': 1657644184335, 'E': 1657644184340}\n",
      "{'u': 506748381411, 'e': 'bookTicker', 's': 'BTCUSD_PERP', 'ps': 'BTCUSD', 'b': '19939.3', 'B': '449', 'a': '19939.4', 'A': '5538', 'T': 1657644184337, 'E': 1657644184342}\n",
      "{'u': 506748381414, 'e': 'bookTicker', 's': 'BTCUSD_PERP', 'ps': 'BTCUSD', 'b': '19939.3', 'B': '449', 'a': '19939.4', 'A': '5769', 'T': 1657644184338, 'E': 1657644184342}\n",
      "{'u': 506748381419, 'e': 'bookTicker', 's': 'BTCUSD_PERP', 'ps': 'BTCUSD', 'b': '19939.3', 'B': '449', 'a': '19939.4', 'A': '5868', 'T': 1657644184339, 'E': 1657644184345}\n",
      "{'u': 506748381424, 'e': 'bookTicker', 's': 'BTCUSD_PERP', 'ps': 'BTCUSD', 'b': '19939.3', 'B': '451', 'a': '19939.4', 'A': '5868', 'T': 1657644184341, 'E': 1657644184349}\n",
      "{'u': 506748381571, 'e': 'bookTicker', 's': 'BTCUSD_PERP', 'ps': 'BTCUSD', 'b': '19939.3', 'B': '451', 'a': '19939.4', 'A': '5637', 'T': 1657644184348, 'E': 1657644184354}\n",
      "{'u': 506748381659, 'e': 'bookTicker', 's': 'BTCUSD_PERP', 'ps': 'BTCUSD', 'b': '19939.3', 'B': '386', 'a': '19939.4', 'A': '5637', 'T': 1657644184354, 'E': 1657644184359}\n",
      "{'u': 506748381799, 'e': 'bookTicker', 's': 'BTCUSD_PERP', 'ps': 'BTCUSD', 'b': '19939.3', 'B': '386', 'a': '19939.4', 'A': '5734', 'T': 1657644184363, 'E': 1657644184371}\n",
      "{'u': 506748381804, 'e': 'bookTicker', 's': 'BTCUSD_PERP', 'ps': 'BTCUSD', 'b': '19939.3', 'B': '386', 'a': '19939.4', 'A': '5784', 'T': 1657644184363, 'E': 1657644184371}\n",
      "{'u': 506748381944, 'e': 'bookTicker', 's': 'BTCUSD_PERP', 'ps': 'BTCUSD', 'b': '19939.3', 'B': '451', 'a': '19939.4', 'A': '5784', 'T': 1657644184371, 'E': 1657644184375}\n",
      "{'u': 506748381996, 'e': 'bookTicker', 's': 'BTCUSD_PERP', 'ps': 'BTCUSD', 'b': '19939.3', 'B': '455', 'a': '19939.4', 'A': '5784', 'T': 1657644184374, 'E': 1657644184381}\n",
      "{'u': 506748382008, 'e': 'bookTicker', 's': 'BTCUSD_PERP', 'ps': 'BTCUSD', 'b': '19939.3', 'B': '459', 'a': '19939.4', 'A': '5784', 'T': 1657644184374, 'E': 1657644184381}\n",
      "{'u': 506748382015, 'e': 'bookTicker', 's': 'BTCUSD_PERP', 'ps': 'BTCUSD', 'b': '19939.3', 'B': '463', 'a': '19939.4', 'A': '5784', 'T': 1657644184375, 'E': 1657644184381}\n",
      "{'u': 506748382148, 'e': 'bookTicker', 's': 'BTCUSD_PERP', 'ps': 'BTCUSD', 'b': '19939.3', 'B': '467', 'a': '19939.4', 'A': '5784', 'T': 1657644184381, 'E': 1657644184387}\n",
      "{'u': 506748382166, 'e': 'bookTicker', 's': 'BTCUSD_PERP', 'ps': 'BTCUSD', 'b': '19939.3', 'B': '463', 'a': '19939.4', 'A': '5784', 'T': 1657644184382, 'E': 1657644184389}\n",
      "{'u': 506748382169, 'e': 'bookTicker', 's': 'BTCUSD_PERP', 'ps': 'BTCUSD', 'b': '19939.3', 'B': '459', 'a': '19939.4', 'A': '5784', 'T': 1657644184382, 'E': 1657644184389}\n",
      "{'u': 506748382258, 'e': 'bookTicker', 's': 'BTCUSD_PERP', 'ps': 'BTCUSD', 'b': '19939.3', 'B': '859', 'a': '19939.4', 'A': '5784', 'T': 1657644184387, 'E': 1657644184392}\n",
      "{'u': 506748382317, 'e': 'bookTicker', 's': 'BTCUSD_PERP', 'ps': 'BTCUSD', 'b': '19939.3', 'B': '859', 'a': '19939.4', 'A': '6032', 'T': 1657644184391, 'E': 1657644184398}\n",
      "{'u': 506748382571, 'e': 'bookTicker', 's': 'BTCUSD_PERP', 'ps': 'BTCUSD', 'b': '19939.3', 'B': '859', 'a': '19939.4', 'A': '5946', 'T': 1657644184405, 'E': 1657644184409}\n",
      "{'u': 506748382576, 'e': 'bookTicker', 's': 'BTCUSD_PERP', 'ps': 'BTCUSD', 'b': '19939.3', 'B': '855', 'a': '19939.4', 'A': '5946', 'T': 1657644184406, 'E': 1657644184409}\n",
      "{'u': 506748382793, 'e': 'bookTicker', 's': 'BTCUSD_PERP', 'ps': 'BTCUSD', 'b': '19939.3', 'B': '855', 'a': '19939.4', 'A': '5936', 'T': 1657644184421, 'E': 1657644184427}\n",
      "{'u': 506748383666, 'e': 'bookTicker', 's': 'BTCUSD_PERP', 'ps': 'BTCUSD', 'b': '19939.3', 'B': '855', 'a': '19939.4', 'A': '5886', 'T': 1657644184502, 'E': 1657644184510}\n",
      "{'u': 506748385438, 'e': 'bookTicker', 's': 'BTCUSD_PERP', 'ps': 'BTCUSD', 'b': '19939.3', 'B': '855', 'a': '19939.4', 'A': '5789', 'T': 1657644184674, 'E': 1657644184678}\n",
      "{'u': 506748385491, 'e': 'bookTicker', 's': 'BTCUSD_PERP', 'ps': 'BTCUSD', 'b': '19939.3', 'B': '855', 'a': '19939.4', 'A': '5541', 'T': 1657644184677, 'E': 1657644184685}\n",
      "{'u': 506748385530, 'e': 'bookTicker', 's': 'BTCUSD_PERP', 'ps': 'BTCUSD', 'b': '19939.3', 'B': '855', 'a': '19939.4', 'A': '5041', 'T': 1657644184683, 'E': 1657644184691}\n",
      "{'u': 506748385959, 'e': 'bookTicker', 's': 'BTCUSD_PERP', 'ps': 'BTCUSD', 'b': '19939.3', 'B': '855', 'a': '19939.4', 'A': '4942', 'T': 1657644184732, 'E': 1657644184737}\n",
      "{'u': 506748387062, 'e': 'bookTicker', 's': 'BTCUSD_PERP', 'ps': 'BTCUSD', 'b': '19939.3', 'B': '855', 'a': '19939.4', 'A': '5192', 'T': 1657644184866, 'E': 1657644184872}\n"
     ]
    },
    {
     "ename": "KeyboardInterrupt",
     "evalue": "",
     "output_type": "error",
     "traceback": [
      "\u001b[0;31m---------------------------------------------------------------------------\u001b[0m",
      "\u001b[0;31mKeyboardInterrupt\u001b[0m                         Traceback (most recent call last)",
      "\u001b[0;32m/tmp/ipykernel_9858/3237323357.py\u001b[0m in \u001b[0;36m<module>\u001b[0;34m\u001b[0m\n\u001b[1;32m     20\u001b[0m )\n\u001b[1;32m     21\u001b[0m \u001b[0;34m\u001b[0m\u001b[0m\n\u001b[0;32m---> 22\u001b[0;31m \u001b[0mtime\u001b[0m\u001b[0;34m.\u001b[0m\u001b[0msleep\u001b[0m\u001b[0;34m(\u001b[0m\u001b[0;36m5\u001b[0m\u001b[0;34m)\u001b[0m\u001b[0;34m\u001b[0m\u001b[0;34m\u001b[0m\u001b[0m\n\u001b[0m\u001b[1;32m     23\u001b[0m \u001b[0;34m\u001b[0m\u001b[0m\n\u001b[1;32m     24\u001b[0m \u001b[0mlogging\u001b[0m\u001b[0;34m.\u001b[0m\u001b[0mdebug\u001b[0m\u001b[0;34m(\u001b[0m\u001b[0;34m\"closing ws connection\"\u001b[0m\u001b[0;34m)\u001b[0m\u001b[0;34m\u001b[0m\u001b[0;34m\u001b[0m\u001b[0m\n",
      "\u001b[0;31mKeyboardInterrupt\u001b[0m: "
     ]
    },
    {
     "name": "stdout",
     "output_type": "stream",
     "text": [
      "{'u': 506748387468, 'e': 'bookTicker', 's': 'BTCUSD_PERP', 'ps': 'BTCUSD', 'b': '19939.3', 'B': '855', 'a': '19939.4', 'A': '4942', 'T': 1657644184920, 'E': 1657644184926}\n"
     ]
    }
   ],
   "source": [
    "import time\n",
    "import logging\n",
    "from binance.lib.utils import config_logging\n",
    "from binance.websocket.cm_futures.websocket_client import CMFuturesWebsocketClient\n",
    "\n",
    "config_logging(logging, logging.DEBUG)\n",
    "\n",
    "\n",
    "def message_handler(message):\n",
    "    print(message)\n",
    "\n",
    "\n",
    "my_client = CMFuturesWebsocketClient()\n",
    "my_client.start()\n",
    "\n",
    "test = my_client.book_ticker(\n",
    "    id=13,\n",
    "    callback=message_handler,\n",
    "    symbol=\"btcusd_perp\"\n",
    ")\n",
    "\n",
    "time.sleep(5)\n",
    "\n",
    "logging.debug(\"closing ws connection\")\n",
    "my_client.stop()"
   ]
  },
  {
   "cell_type": "markdown",
   "id": "6f2aa61a",
   "metadata": {},
   "source": [
    "Ok, now we have managed to get a realtime stream of data of the corresponding symbol into our notebook. Now we need to compute the volatility within a millisecond. Let's see how we can access the data printed in the console. \n",
    "\n",
    "Ok, digged into the source code of the binance-future-connector library and apparently this data is coming from a thread: Complicated stuff. I somehow dont seem how I can access to the thread. We can immediately catch the data printed at the output, but that will a overhead.\n",
    "\n",
    "Let's try another library: unicorn binance library"
   ]
  },
  {
   "cell_type": "markdown",
   "id": "e91238f1",
   "metadata": {},
   "source": [
    "# unicorn_binance_websocket_api"
   ]
  },
  {
   "cell_type": "code",
   "execution_count": 2,
   "id": "f08d1143",
   "metadata": {},
   "outputs": [
    {
     "data": {
      "text/plain": [
       "<Logger unicorn_binance_websocket_api (WARNING)>"
      ]
     },
     "execution_count": 2,
     "metadata": {},
     "output_type": "execute_result"
    }
   ],
   "source": [
    "from unicorn_binance_websocket_api.manager import BinanceWebSocketApiManager\n",
    "import logging\n",
    "import os\n",
    "import time\n",
    "import threading, queue\n",
    "\n",
    "import json\n",
    "from collections import deque\n",
    "import numpy as np\n",
    "logging.getLogger(\"unicorn_binance_websocket_api\")\n"
   ]
  },
  {
   "cell_type": "markdown",
   "id": "6a91610f",
   "metadata": {},
   "source": [
    "The way this works: there is a streambuffer which is being supplied with data from the binance server. I think this buffer is locked when data is being dumped from the websocket and released when it's done. When we get data from buffer, we empty the buffer. \n",
    "Let's see if we can calculate the volatility from streamed data"
   ]
  },
  {
   "cell_type": "code",
   "execution_count": 2,
   "id": "8a1d18ae",
   "metadata": {},
   "outputs": [
    {
     "name": "stdout",
     "output_type": "stream",
     "text": [
      "max streamsize: None\n"
     ]
    }
   ],
   "source": [
    "\n",
    "def print_stream_data_from_stream_buffer(binance_websocket_api_manager, rolling_wdw, dataque, volatility_que):\n",
    "    # initialize volatiltiy calculator\n",
    "    oper = proc_Data(window = rolling_wdw)\n",
    "    while True:\n",
    "#         print('streamsize:',  binance_websocket_api_manager.get_stream_buffer_length())\n",
    "        if binance_websocket_api_manager.is_manager_stopping():\n",
    "            exit(0)\n",
    "        # get data from streambuffer\n",
    "        data_from_stream_buffer = binance_websocket_api_manager.pop_stream_data_from_stream_buffer()\n",
    "        if data_from_stream_buffer is False:\n",
    "            time.sleep(0.01)\n",
    "        else:\n",
    "            try:\n",
    "                data_dict = json.loads(data_from_stream_buffer)\n",
    "                \n",
    "                data_volatility = oper.calc_volatility(data_dict)\n",
    "                if data_volatility is not None:\n",
    "                    # uncomment to measure time it takes to calculate volatility\n",
    "#                     t = time.time()\n",
    "                    volatility_que.append(data_volatility)\n",
    "#                     print (\"time to calculate volatility: \", time.time()-t)\n",
    "                dataque.append([data_dict['data']['T'],data_dict['data']['a'],data_dict['data']['b']])\n",
    "                \n",
    "            except KeyError:\n",
    "                pass\n",
    "\n",
    "            \n",
    "def start_websocket_listener(rolling_wdw, dataque, volatility_que):\n",
    "    # create instance of BinanceWebSocketApiManager and \n",
    "    #provide the function for stream processing\n",
    "    binance_websocket_api_manager = BinanceWebSocketApiManager(\n",
    "        exchange=\"binance.com-coin_futures\")\n",
    "    # create streams\n",
    "    bookTicker_arr_stream_id = binance_websocket_api_manager.create_stream(\n",
    "        channels=\"bookTicker\",markets='btcusd_perp')\n",
    "    \n",
    "    print('max streamsize:',  binance_websocket_api_manager.get_stream_buffer_maxlen())\n",
    "    # start one worker process (or more) to move the \n",
    "    #received stream_data from the stream_buffer to a print function\n",
    "    worker_thread = threading.Thread(target=print_stream_data_from_stream_buffer, \n",
    "                                     args=(binance_websocket_api_manager, rolling_wdw, dataque, volatility_que))\n",
    "    worker_thread.start()\n",
    "\n",
    "class proc_Data():\n",
    "    \n",
    "    def __init__(self, window = 200):\n",
    "        # initializing buffer and rolling window\n",
    "        self.buffer = deque()\n",
    "        self.ti = deque()\n",
    "        self.window = window\n",
    "        self.flag = False\n",
    "        self.dt = 0\n",
    "        \n",
    "    def construct_window(self, data_dict):\n",
    "        if self.flag:\n",
    "            # remove first element from buffer from the left and add new elements to have \n",
    "            # a new 200 ms buffer\n",
    "            self.ti.popleft()\n",
    "            self.buffer.popleft()\n",
    "            self.dt = np.sum(np.diff(np.array(self.ti)))\n",
    "            self.flag = False\n",
    "        \n",
    "        if (self.dt <= self.window): # fill buffer up to 200 ms\n",
    "            self.ti.append(data_dict['data']['T'])\n",
    "            self.buffer.append([data_dict['data']['T'],\n",
    "                               data_dict['data']['b'],\n",
    "                               data_dict['data']['a']])\n",
    "        \n",
    "            self.dt = np.sum(np.diff(np.array(self.ti)))\n",
    "            \n",
    "        else:\n",
    "            # execute when buffer is full\n",
    "            self.flag = True\n",
    "            rol_window = np.array(self.buffer,dtype=np.float64)\n",
    "            return rol_window\n",
    "      \n",
    "        \n",
    "    def calc_volatility(self, data_dict):\n",
    "        \n",
    "        rlw = self.construct_window(data_dict) \n",
    "        if rlw is None:\n",
    "            pass\n",
    "        \n",
    "        else:\n",
    "            \n",
    "            _,idx = np.unique(rlw[:,0], return_index = True)\n",
    "            _rlw = np.zeros((len(idx),2))\n",
    "            _rlw[:,0] = rlw[idx,0] # timestamp\n",
    "            _rlw[:,1] = (rlw[idx,1] + rlw[idx,2]) / 2 # midprice\n",
    "            diff_arr = np.diff(_rlw,axis=0) # difference (midprice_t - midprice_t-1)\n",
    "            volt_t = np.sum(np.abs(diff_arr[:,1]/_rlw[1:,1])/diff_arr[:,0])/len(diff_arr) # rolling derivative average\n",
    "\n",
    "            return [_rlw[-1,0], volt_t]\n",
    "\n",
    "# deque datastructures have O(1) complexity, whereas lists have O(n) when indexing or using pop,\n",
    "# see test below\n",
    "\n",
    "dataque = deque()    # Que to store realtime stream\n",
    "volatility_que = deque() # Que to store volatility\n",
    "rolling_wdw = 200 # ms\n",
    "start_websocket_listener(rolling_wdw, dataque, volatility_que)  # start stream and store data in ques"
   ]
  },
  {
   "attachments": {
    "image.png": {
     "image/png": "[encoded data removed]"
    }
   },
   "cell_type": "markdown",
   "id": "59d45036",
   "metadata": {},
   "source": [
    "Ok, what have we done till so far?\n",
    "\n",
    "- I am able to get orderbook data from the server. One thing I notice, is that the server bid/ask prices obtained with the current API does not match the price in our browser; why is that?\n",
    "\n",
    "- I implemented a rolling window that calculated the volatility of a given asset. The window size is adjustable\n",
    "\n",
    "- I notice that there are multiple orders that occurred at the same transaction time, but also several orders that contain the same price. I remove those that happened at the same time, because those have the same price and therefore do not add any new information\n",
    "\n",
    "- Lastly, when I remove all the print statement, my code is able to calculate the volatility in below a millisecond (unit below is seconds)\n",
    "![image.png](attachment:image.png)\n",
    "\n",
    "- Let's see if we can plot this streaming data "
   ]
  },
  {
   "cell_type": "markdown",
   "id": "f8a15e13",
   "metadata": {},
   "source": [
    "The volatility metric is calculated with <br>\n",
    "midprice = m(t) <br>\n",
    "askprice = a(t) <br>\n",
    "bidprice = b(t) <br>\n",
    "$\\rm m(t)  = \\frac{b(t) + a(t)}{2}$<br>\n",
    "$\\rm Volatility = \\frac{1}{n} \\sum_t \\bigl|\\frac{\\frac{m(t) - m(t-1)}{m(t)}}{dt}\\bigr| $\n",
    "\n",
    "Looks like an average of the time derivative of the midprice ( to get this in percentage, multiply by 1e5). "
   ]
  },
  {
   "cell_type": "markdown",
   "id": "a974a3ab",
   "metadata": {},
   "source": [
    "# Plotly/Dash: plotting live data"
   ]
  },
  {
   "cell_type": "code",
   "execution_count": 3,
   "id": "f2b45e46",
   "metadata": {},
   "outputs": [
    {
     "name": "stdout",
     "output_type": "stream",
     "text": [
      "Dash is running on http://10.164.0.4:8050/\n",
      "\n",
      " * Serving Flask app \"__main__\" (lazy loading)\n",
      " * Environment: production\n",
      "   WARNING: This is a development server. Do not use it in a production deployment.\n",
      "   Use a production WSGI server instead.\n",
      " * Debug mode: off\n"
     ]
    },
    {
     "name": "stderr",
     "output_type": "stream",
     "text": [
      " * Running on http://10.164.0.4:8050/ (Press CTRL+C to quit)\n",
      "92.110.1.169 - - [12/Jul/2022 16:43:24] \"POST /_dash-update-component HTTP/1.1\" 200 -\n",
      "92.110.1.169 - - [12/Jul/2022 16:43:24] \"POST /_dash-update-component HTTP/1.1\" 200 -\n",
      "92.110.1.169 - - [12/Jul/2022 16:43:25] \"POST /_dash-update-component HTTP/1.1\" 200 -\n"
     ]
    }
   ],
   "source": [
    "import dash\n",
    "from dash import html\n",
    "from dash import dcc\n",
    "from dash.dependencies import Input, Output\n",
    "import plotly\n",
    "import plotly.graph_objs as go\n",
    "import pandas as pd\n",
    "\n",
    "# configuring plotly parameters and used Dash app to plot live price and\n",
    "# volatility data in browser \n",
    "class display_bookTicker():\n",
    "    \n",
    "    def __init__(self,datastream, voltstream):\n",
    "        self.stream = datastream\n",
    "        self.vstream = voltstream\n",
    "        self.t_stamp = deque()\n",
    "        self.volt_t_stamp = deque()\n",
    "        self.price = deque()\n",
    "        \n",
    "        self.app = dash.Dash()\n",
    "        # configuring layout in browser\n",
    "        self.app.layout = html.Div([\n",
    "        html.Div([\n",
    "            html.H1(\n",
    "                children = \"COIN-M BTCUSDT (perp) LIVE TRACKING\",\n",
    "                style = {\n",
    "                    'color': '#d486f0',\n",
    "                    'backgroundColor': \"#18191c\",\n",
    "                }\n",
    "            )\n",
    "        ], className = 'row'),\n",
    "        html.Div([ ### FIGURES Divs\n",
    "            html.Div([\n",
    "                dcc.Graph(id = 'fig_1' ,),\n",
    "                dcc.Interval(id = 'fig_1_update' ,interval=1200 , n_intervals = 0)\n",
    "            ], className = 'pricefig'),\n",
    "            html.Div([\n",
    "                dcc.Graph(id = 'fig_2' ),\n",
    "                dcc.Interval(id = 'fig_2_update', interval= 1200, n_intervals = 0)\n",
    "            ], className = 'voltfig')\n",
    "        ], className = 'row')])\n",
    "        # call back to continiously update figures\n",
    "        self.app.callback(\n",
    "            [Output('fig_1', 'figure'),Output('fig_2', 'figure')],\n",
    "            Input('fig_1_update', 'n_intervals'))(self.update_graph)\n",
    "    # callback function\n",
    "    def update_graph(self, n):\n",
    "        _tempdata = np.array(self.stream, dtype = np.float64)\n",
    "        _timest = pd.Series(_tempdata[:,0])*1e-3\n",
    "        timest = pd.to_datetime(_timest,unit='s')\n",
    "        \n",
    "        fig_1 = go.Figure(\n",
    "            data = [go.Scatter(\n",
    "            x = timest,\n",
    "            y = _tempdata[:,1], name = 'askprice',showlegend = True),\n",
    "                   go.Scatter(\n",
    "            x = timest,\n",
    "            y = _tempdata[:,2], name = 'bidprice',showlegend = True,\n",
    "                   marker = dict(color='green'))],\n",
    "        )\n",
    "        \n",
    "        fig_1.update_layout(title = 'price', yaxis=dict(tickformat=\".1f\") )\n",
    "        \n",
    "        _tempvoltdata = np.array(self.vstream, dtype = np.float64)\n",
    "        _timestvolt = pd.Series(_tempvoltdata[:,0])*1e-3\n",
    "        timestvolt = pd.to_datetime(_timestvolt,unit='s')\n",
    "        \n",
    "        fig_2 = go.Figure(\n",
    "            data = go.Scatter(\n",
    "            x = timestvolt,\n",
    "            y = _tempvoltdata[:,1]*1e5, name = 'Volatility',showlegend = True,\n",
    "            marker = dict(color='red'),))\n",
    "        \n",
    "        fig_2.update_layout(title = 'Volatility',yaxis=dict(tickformat=\".2f\",title='Percentage Change/s'))\n",
    "        \n",
    "        return [fig_1,fig_2]\n",
    "\n",
    "if __name__ == '__main__':\n",
    "    show_ticker = display_bookTicker(dataque,volatility_que)\n",
    "    # I run this code on google cloud computing engine on port 8050\n",
    "    show_ticker.app.run_server(host='10.164.0.4', port='8050')"
   ]
  },
  {
   "cell_type": "markdown",
   "id": "66ec5c67",
   "metadata": {},
   "source": [
    "For demonstration purposes of what the plotting code above displays\n",
    "<img src=\"livetracking.gif\" width=\"750\" align=\"center\">"
   ]
  },
  {
   "cell_type": "markdown",
   "id": "e56a8596",
   "metadata": {},
   "source": [
    "Live tracker is based on https://www.binance.com/en/futures/BTCUSDT"
   ]
  },
  {
   "cell_type": "markdown",
   "id": "d4cf3733",
   "metadata": {},
   "source": [
    "# Testing "
   ]
  },
  {
   "cell_type": "code",
   "execution_count": 7,
   "id": "c24120f3",
   "metadata": {},
   "outputs": [
    {
     "name": "stdout",
     "output_type": "stream",
     "text": [
      "MainThread\n",
      "IOPub\n",
      "Heartbeat\n",
      "Thread-3\n",
      "Thread-4\n",
      "Control\n",
      "IPythonHistorySavingThread\n",
      "Thread-2\n"
     ]
    }
   ],
   "source": [
    "for thread in threading.enumerate(): \n",
    "    print(thread.name)"
   ]
  },
  {
   "cell_type": "markdown",
   "id": "c0944c1a",
   "metadata": {},
   "source": [
    "What's the difference in performance between using list and deque for storing data and obtaining data. For example in using a rolling window to remove and add new elements"
   ]
  },
  {
   "cell_type": "code",
   "execution_count": 8,
   "id": "09bcbd13",
   "metadata": {},
   "outputs": [
    {
     "name": "stdout",
     "output_type": "stream",
     "text": [
      "7.09 ms ± 44.7 µs per loop (mean ± std. dev. of 7 runs, 100 loops each)\n",
      "58.2 ns ± 0.146 ns per loop (mean ± std. dev. of 7 runs, 10000000 loops each)\n"
     ]
    }
   ],
   "source": [
    "s = list(range(10000000))\n",
    "\n",
    "d = deque(s)\n",
    "\n",
    "s_append, s_pop = s.append, s.pop\n",
    "\n",
    "d_append, d_pop = d.append, d.popleft\n",
    "\n",
    "%timeit s_pop(0); s_append(None)\n",
    "\n",
    "%timeit d_pop(); d_append(None)\n"
   ]
  },
  {
   "cell_type": "markdown",
   "id": "0c61ddbb",
   "metadata": {},
   "source": [
    "Deques have O(1) speed for appendleft() and popleft() while lists have O(n) performance for insert(0, value) and pop(0)."
   ]
  },
  {
   "cell_type": "code",
   "execution_count": null,
   "id": "3d79cf2b",
   "metadata": {},
   "outputs": [],
   "source": []
  }
 ],
 "metadata": {
  "jupytext": {
   "formats": "ipynb,md"
  },
  "kernelspec": {
   "display_name": "Python 3 (ipykernel)",
   "language": "python",
   "name": "python3"
  },
  "language_info": {
   "codemirror_mode": {
    "name": "ipython",
    "version": 3
   },
   "file_extension": ".py",
   "mimetype": "text/x-python",
   "name": "python",
   "nbconvert_exporter": "python",
   "pygments_lexer": "ipython3",
   "version": "3.7.13"
  },
  "toc": {
   "base_numbering": 1,
   "nav_menu": {},
   "number_sections": true,
   "sideBar": true,
   "skip_h1_title": false,
   "title_cell": "Table of Contents",
   "title_sidebar": "Contents",
   "toc_cell": false,
   "toc_position": {},
   "toc_section_display": true,
   "toc_window_display": false
  }
 },
 "nbformat": 4,
 "nbformat_minor": 5
}
