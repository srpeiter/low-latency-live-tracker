{
 "cells": [
  {
   "cell_type": "markdown",
   "id": "fbcfc782",
   "metadata": {},
   "source": [
    "Let's see if I understand the problem:\n",
    "\n",
    "> An asset listed on a exchange is prone to sharp price fluctuations within a short time scale. This has various reasons such as release of big news, sudden large purchase or release of that asset. These large fluctuations often occur on large exchanges like **Binance** etc.\n",
    "\n",
    "> Now if a market maker like Fourstroke is trading this asset at a speed slower than the timescale of the fluctuations, the risk of not noticing this rapid change in price and miss on the opportunity to capitalize on this or even worse: they risk of being arbitraged by other market maker \n",
    "\n",
    "> The task is to develop an application to track these sharp price fluctuations and warn the trading system such that it can adjust it bid-ask price on time! \n",
    "\n",
    "> Basically, create a program that measures the volatility of a given asset with high resolution\n",
    "\n",
    "For creating this application, I will be developing code on a **google cloud computing engine**. My local computer ram is overloaded and is really slow. This notebook can also be run on my local computer."
   ]
  },
  {
   "cell_type": "markdown",
   "id": "5360be6b",
   "metadata": {},
   "source": [
    "Let's concretize this problem is a bit.:\n",
    "- We will be using data from binance crypto exchange. Later we will generalize this to different exchanges\n",
    "\n",
    "- Let's first start simple and check the internet for a library which does this for us. Then we can move on optimize stuff.\n",
    "\n",
    "- Found an interesting library in python that basically acts as a single wrapper around APIs of different crypto exchanges: ccxt (https://github.com/ccxt/ccxt)"
   ]
  },
  {
   "cell_type": "markdown",
   "id": "cd335856",
   "metadata": {},
   "source": [
    "Do I need credentials to make use of binance API? Let's first understand how the ccxt API works"
   ]
  },
  {
   "cell_type": "markdown",
   "id": "16a0419c",
   "metadata": {},
   "source": [
    "# CCXT API"
   ]
  },
  {
   "cell_type": "code",
   "execution_count": 1,
   "id": "163867f7",
   "metadata": {},
   "outputs": [],
   "source": [
    "import ccxt\n",
    "import pandas as pd"
   ]
  },
  {
   "cell_type": "code",
   "execution_count": 2,
   "id": "a9b26986",
   "metadata": {},
   "outputs": [
    {
     "name": "stdout",
     "output_type": "stream",
     "text": [
      "['aax', 'ascendex', 'bequant', 'bibox', 'bigone', 'binance', 'binancecoinm', 'binanceus', 'binanceusdm', 'bit2c', 'bitbank', 'bitbay', 'bitbns', 'bitcoincom', 'bitfinex', 'bitfinex2', 'bitflyer', 'bitforex', 'bitget', 'bithumb', 'bitmart', 'bitmex', 'bitopro', 'bitpanda', 'bitrue', 'bitso', 'bitstamp', 'bitstamp1', 'bittrex', 'bitvavo', 'bkex', 'bl3p', 'blockchaincom', 'btcalpha', 'btcbox', 'btcex', 'btcmarkets', 'btctradeua', 'btcturk', 'buda', 'bw', 'bybit', 'bytetrade', 'cdax', 'cex', 'coinbase', 'coinbaseprime', 'coinbasepro', 'coincheck', 'coinex', 'coinfalcon', 'coinflex', 'coinmate', 'coinone', 'coinspot', 'crex24', 'cryptocom', 'currencycom', 'delta', 'deribit', 'digifinex', 'eqonex', 'exmo', 'flowbtc', 'fmfwio', 'ftx', 'ftxus', 'gate', 'gateio', 'gemini', 'hitbtc', 'hitbtc3', 'hollaex', 'huobi', 'huobijp', 'huobipro', 'idex', 'independentreserve', 'indodax', 'itbit', 'kraken', 'kucoin', 'kucoinfutures', 'kuna', 'latoken', 'lbank', 'lbank2', 'liquid', 'luno', 'lykke', 'mercado', 'mexc', 'mexc3', 'ndax', 'novadax', 'oceanex', 'okcoin', 'okex', 'okex5', 'okx', 'paymium', 'phemex', 'poloniex', 'probit', 'qtrade', 'ripio', 'stex', 'therock', 'tidebit', 'tidex', 'timex', 'upbit', 'vcc', 'wavesexchange', 'wazirx', 'whitebit', 'woo', 'xena', 'yobit', 'zaif', 'zb', 'zipmex', 'zonda']\n"
     ]
    }
   ],
   "source": [
    "print(ccxt.exchanges)"
   ]
  },
  {
   "cell_type": "markdown",
   "id": "3ac734ad",
   "metadata": {},
   "source": [
    "The BTC/USDT Coin-M future is listed on https://www.binance.com/en/delivery/btcusd_perpetual"
   ]
  },
  {
   "cell_type": "code",
   "execution_count": null,
   "id": "08706474",
   "metadata": {},
   "outputs": [],
   "source": [
    "coinm = ccxt.binancecoinm()\n",
    "markets = coinm.load_markets()\n",
    "print(coinm.id, markets)"
   ]
  },
  {
   "cell_type": "code",
   "execution_count": 3,
   "id": "e423b3aa",
   "metadata": {
    "scrolled": true
   },
   "outputs": [
    {
     "data": {
      "text/html": [
       "<div>\n",
       "<style scoped>\n",
       "    .dataframe tbody tr th:only-of-type {\n",
       "        vertical-align: middle;\n",
       "    }\n",
       "\n",
       "    .dataframe tbody tr th {\n",
       "        vertical-align: top;\n",
       "    }\n",
       "\n",
       "    .dataframe thead th {\n",
       "        text-align: right;\n",
       "    }\n",
       "</style>\n",
       "<table border=\"1\" class=\"dataframe\">\n",
       "  <thead>\n",
       "    <tr style=\"text-align: right;\">\n",
       "      <th></th>\n",
       "      <th>symbol</th>\n",
       "      <th>bids</th>\n",
       "      <th>asks</th>\n",
       "      <th>timestamp</th>\n",
       "      <th>datetime</th>\n",
       "      <th>nonce</th>\n",
       "    </tr>\n",
       "  </thead>\n",
       "  <tbody>\n",
       "    <tr>\n",
       "      <th>0</th>\n",
       "      <td>BTC/USD</td>\n",
       "      <td>[19739.2, 5659.0]</td>\n",
       "      <td>[19739.3, 55.0]</td>\n",
       "      <td>1657747608214</td>\n",
       "      <td>2022-07-13T21:26:48.214Z</td>\n",
       "      <td>507946659543</td>\n",
       "    </tr>\n",
       "    <tr>\n",
       "      <th>1</th>\n",
       "      <td>BTC/USD</td>\n",
       "      <td>[19739.1, 15.0]</td>\n",
       "      <td>[19739.6, 1.0]</td>\n",
       "      <td>1657747608214</td>\n",
       "      <td>2022-07-13T21:26:48.214Z</td>\n",
       "      <td>507946659543</td>\n",
       "    </tr>\n",
       "    <tr>\n",
       "      <th>2</th>\n",
       "      <td>BTC/USD</td>\n",
       "      <td>[19739.0, 233.0]</td>\n",
       "      <td>[19739.7, 2.0]</td>\n",
       "      <td>1657747608214</td>\n",
       "      <td>2022-07-13T21:26:48.214Z</td>\n",
       "      <td>507946659543</td>\n",
       "    </tr>\n",
       "    <tr>\n",
       "      <th>3</th>\n",
       "      <td>BTC/USD</td>\n",
       "      <td>[19738.9, 4.0]</td>\n",
       "      <td>[19740.3, 2.0]</td>\n",
       "      <td>1657747608214</td>\n",
       "      <td>2022-07-13T21:26:48.214Z</td>\n",
       "      <td>507946659543</td>\n",
       "    </tr>\n",
       "    <tr>\n",
       "      <th>4</th>\n",
       "      <td>BTC/USD</td>\n",
       "      <td>[19738.8, 10.0]</td>\n",
       "      <td>[19740.4, 1.0]</td>\n",
       "      <td>1657747608214</td>\n",
       "      <td>2022-07-13T21:26:48.214Z</td>\n",
       "      <td>507946659543</td>\n",
       "    </tr>\n",
       "    <tr>\n",
       "      <th>...</th>\n",
       "      <td>...</td>\n",
       "      <td>...</td>\n",
       "      <td>...</td>\n",
       "      <td>...</td>\n",
       "      <td>...</td>\n",
       "      <td>...</td>\n",
       "    </tr>\n",
       "    <tr>\n",
       "      <th>495</th>\n",
       "      <td>BTC/USD</td>\n",
       "      <td>[19457.7, 1165.0]</td>\n",
       "      <td>[20015.4, 399.0]</td>\n",
       "      <td>1657747608214</td>\n",
       "      <td>2022-07-13T21:26:48.214Z</td>\n",
       "      <td>507946659543</td>\n",
       "    </tr>\n",
       "    <tr>\n",
       "      <th>496</th>\n",
       "      <td>BTC/USD</td>\n",
       "      <td>[19456.0, 459.0]</td>\n",
       "      <td>[20015.6, 498.0]</td>\n",
       "      <td>1657747608214</td>\n",
       "      <td>2022-07-13T21:26:48.214Z</td>\n",
       "      <td>507946659543</td>\n",
       "    </tr>\n",
       "    <tr>\n",
       "      <th>497</th>\n",
       "      <td>BTC/USD</td>\n",
       "      <td>[19455.6, 770.0]</td>\n",
       "      <td>[20015.7, 1596.0]</td>\n",
       "      <td>1657747608214</td>\n",
       "      <td>2022-07-13T21:26:48.214Z</td>\n",
       "      <td>507946659543</td>\n",
       "    </tr>\n",
       "    <tr>\n",
       "      <th>498</th>\n",
       "      <td>BTC/USD</td>\n",
       "      <td>[19454.6, 5.0]</td>\n",
       "      <td>[20016.0, 399.0]</td>\n",
       "      <td>1657747608214</td>\n",
       "      <td>2022-07-13T21:26:48.214Z</td>\n",
       "      <td>507946659543</td>\n",
       "    </tr>\n",
       "    <tr>\n",
       "      <th>499</th>\n",
       "      <td>BTC/USD</td>\n",
       "      <td>[19454.3, 485.0]</td>\n",
       "      <td>[20016.1, 399.0]</td>\n",
       "      <td>1657747608214</td>\n",
       "      <td>2022-07-13T21:26:48.214Z</td>\n",
       "      <td>507946659543</td>\n",
       "    </tr>\n",
       "  </tbody>\n",
       "</table>\n",
       "<p>500 rows × 6 columns</p>\n",
       "</div>"
      ],
      "text/plain": [
       "      symbol               bids               asks      timestamp  \\\n",
       "0    BTC/USD  [19739.2, 5659.0]    [19739.3, 55.0]  1657747608214   \n",
       "1    BTC/USD    [19739.1, 15.0]     [19739.6, 1.0]  1657747608214   \n",
       "2    BTC/USD   [19739.0, 233.0]     [19739.7, 2.0]  1657747608214   \n",
       "3    BTC/USD     [19738.9, 4.0]     [19740.3, 2.0]  1657747608214   \n",
       "4    BTC/USD    [19738.8, 10.0]     [19740.4, 1.0]  1657747608214   \n",
       "..       ...                ...                ...            ...   \n",
       "495  BTC/USD  [19457.7, 1165.0]   [20015.4, 399.0]  1657747608214   \n",
       "496  BTC/USD   [19456.0, 459.0]   [20015.6, 498.0]  1657747608214   \n",
       "497  BTC/USD   [19455.6, 770.0]  [20015.7, 1596.0]  1657747608214   \n",
       "498  BTC/USD     [19454.6, 5.0]   [20016.0, 399.0]  1657747608214   \n",
       "499  BTC/USD   [19454.3, 485.0]   [20016.1, 399.0]  1657747608214   \n",
       "\n",
       "                     datetime         nonce  \n",
       "0    2022-07-13T21:26:48.214Z  507946659543  \n",
       "1    2022-07-13T21:26:48.214Z  507946659543  \n",
       "2    2022-07-13T21:26:48.214Z  507946659543  \n",
       "3    2022-07-13T21:26:48.214Z  507946659543  \n",
       "4    2022-07-13T21:26:48.214Z  507946659543  \n",
       "..                        ...           ...  \n",
       "495  2022-07-13T21:26:48.214Z  507946659543  \n",
       "496  2022-07-13T21:26:48.214Z  507946659543  \n",
       "497  2022-07-13T21:26:48.214Z  507946659543  \n",
       "498  2022-07-13T21:26:48.214Z  507946659543  \n",
       "499  2022-07-13T21:26:48.214Z  507946659543  \n",
       "\n",
       "[500 rows x 6 columns]"
      ]
     },
     "execution_count": 3,
     "metadata": {},
     "output_type": "execute_result"
    }
   ],
   "source": [
    "pd.DataFrame(ccxt.binancecoinm().fetch_order_book('BTC/USD'))"
   ]
  },
  {
   "cell_type": "markdown",
   "id": "6ea1224a",
   "metadata": {},
   "source": [
    "We want to get a continious stream of data. The standard CCXT library does not provide this. The pro version does, but we have to pay for it. Let's check for other libraries which do support websocket data stream.\n",
    "Found a python-binance-connector library, which automatically opens up a websocket connection for us, sends a request to the server and retrieves the data (https://github.com/binance/binance-futures-connector-python)."
   ]
  },
  {
   "cell_type": "markdown",
   "id": "1d9e831b",
   "metadata": {},
   "source": [
    "# python-binance-connector API"
   ]
  },
  {
   "cell_type": "code",
   "execution_count": 4,
   "id": "2bb5d677",
   "metadata": {},
   "outputs": [
    {
     "name": "stderr",
     "output_type": "stream",
     "text": [
      "INFO:root:Connection with URL: wss://dstream.binance.com/ws\n",
      "INFO:root:Start to connect....\n",
      "INFO:root:Server connected\n",
      "INFO:root:Sending message to Server: b'{\"method\": \"SUBSCRIBE\", \"params\": [\"btcusd_perp@bookTicker\"], \"id\": 13}'\n"
     ]
    },
    {
     "name": "stdout",
     "output_type": "stream",
     "text": [
      "{'id': 13, 'result': None}\n",
      "{'u': 507946701262, 'e': 'bookTicker', 's': 'BTCUSD_PERP', 'ps': 'BTCUSD', 'b': '19739.2', 'B': '5174', 'a': '19739.3', 'A': '532', 'T': 1657747618425, 'E': 1657747618430}\n",
      "{'u': 507946701274, 'e': 'bookTicker', 's': 'BTCUSD_PERP', 'ps': 'BTCUSD', 'b': '19739.2', 'B': '5419', 'a': '19739.3', 'A': '532', 'T': 1657747618432, 'E': 1657747618439}\n",
      "{'u': 507946701302, 'e': 'bookTicker', 's': 'BTCUSD_PERP', 'ps': 'BTCUSD', 'b': '19739.2', 'B': '5174', 'a': '19739.3', 'A': '532', 'T': 1657747618448, 'E': 1657747618455}\n",
      "{'u': 507946701320, 'e': 'bookTicker', 's': 'BTCUSD_PERP', 'ps': 'BTCUSD', 'b': '19739.2', 'B': '5581', 'a': '19739.3', 'A': '532', 'T': 1657747618455, 'E': 1657747618462}\n",
      "{'u': 507946701329, 'e': 'bookTicker', 's': 'BTCUSD_PERP', 'ps': 'BTCUSD', 'b': '19739.2', 'B': '5806', 'a': '19739.3', 'A': '532', 'T': 1657747618460, 'E': 1657747618465}\n",
      "{'u': 507946701378, 'e': 'bookTicker', 's': 'BTCUSD_PERP', 'ps': 'BTCUSD', 'b': '19739.2', 'B': '5806', 'a': '19739.3', 'A': '528', 'T': 1657747618481, 'E': 1657747618486}\n",
      "{'u': 507946701379, 'e': 'bookTicker', 's': 'BTCUSD_PERP', 'ps': 'BTCUSD', 'b': '19739.2', 'B': '5806', 'a': '19739.3', 'A': '524', 'T': 1657747618481, 'E': 1657747618486}\n",
      "{'u': 507946701421, 'e': 'bookTicker', 's': 'BTCUSD_PERP', 'ps': 'BTCUSD', 'b': '19739.2', 'B': '5399', 'a': '19739.3', 'A': '524', 'T': 1657747618504, 'E': 1657747618510}\n",
      "{'u': 507946701423, 'e': 'bookTicker', 's': 'BTCUSD_PERP', 'ps': 'BTCUSD', 'b': '19739.2', 'B': '5174', 'a': '19739.3', 'A': '524', 'T': 1657747618505, 'E': 1657747618510}\n",
      "{'u': 507946701432, 'e': 'bookTicker', 's': 'BTCUSD_PERP', 'ps': 'BTCUSD', 'b': '19739.2', 'B': '5375', 'a': '19739.3', 'A': '524', 'T': 1657747618511, 'E': 1657747618516}\n",
      "{'u': 507946701434, 'e': 'bookTicker', 's': 'BTCUSD_PERP', 'ps': 'BTCUSD', 'b': '19739.2', 'B': '5373', 'a': '19739.3', 'A': '524', 'T': 1657747618514, 'E': 1657747618519}\n",
      "{'u': 507946701469, 'e': 'bookTicker', 's': 'BTCUSD_PERP', 'ps': 'BTCUSD', 'b': '19739.2', 'B': '5172', 'a': '19739.3', 'A': '524', 'T': 1657747618528, 'E': 1657747618534}\n",
      "{'u': 507946701477, 'e': 'bookTicker', 's': 'BTCUSD_PERP', 'ps': 'BTCUSD', 'b': '19739.2', 'B': '5651', 'a': '19739.3', 'A': '524', 'T': 1657747618532, 'E': 1657747618537}\n",
      "{'u': 507946701481, 'e': 'bookTicker', 's': 'BTCUSD_PERP', 'ps': 'BTCUSD', 'b': '19739.2', 'B': '5651', 'a': '19739.3', 'A': '528', 'T': 1657747618533, 'E': 1657747618540}\n",
      "{'u': 507946701482, 'e': 'bookTicker', 's': 'BTCUSD_PERP', 'ps': 'BTCUSD', 'b': '19739.2', 'B': '5651', 'a': '19739.3', 'A': '532', 'T': 1657747618534, 'E': 1657747618540}\n",
      "{'u': 507946701494, 'e': 'bookTicker', 's': 'BTCUSD_PERP', 'ps': 'BTCUSD', 'b': '19739.2', 'B': '5751', 'a': '19739.3', 'A': '532', 'T': 1657747618540, 'E': 1657747618545}\n",
      "{'u': 507946701496, 'e': 'bookTicker', 's': 'BTCUSD_PERP', 'ps': 'BTCUSD', 'b': '19739.2', 'B': '5968', 'a': '19739.3', 'A': '532', 'T': 1657747618541, 'E': 1657747618545}\n",
      "{'u': 507946701500, 'e': 'bookTicker', 's': 'BTCUSD_PERP', 'ps': 'BTCUSD', 'b': '19739.2', 'B': '5968', 'a': '19739.3', 'A': '536', 'T': 1657747618542, 'E': 1657747618548}\n",
      "{'u': 507946701515, 'e': 'bookTicker', 's': 'BTCUSD_PERP', 'ps': 'BTCUSD', 'b': '19739.2', 'B': '5968', 'a': '19739.3', 'A': '540', 'T': 1657747618549, 'E': 1657747618553}\n",
      "{'u': 507946701520, 'e': 'bookTicker', 's': 'BTCUSD_PERP', 'ps': 'BTCUSD', 'b': '19739.2', 'B': '5968', 'a': '19739.3', 'A': '544', 'T': 1657747618551, 'E': 1657747618556}\n",
      "{'u': 507946701527, 'e': 'bookTicker', 's': 'BTCUSD_PERP', 'ps': 'BTCUSD', 'b': '19739.2', 'B': '5968', 'a': '19739.3', 'A': '540', 'T': 1657747618554, 'E': 1657747618558}\n",
      "{'u': 507946701528, 'e': 'bookTicker', 's': 'BTCUSD_PERP', 'ps': 'BTCUSD', 'b': '19739.2', 'B': '5968', 'a': '19739.3', 'A': '536', 'T': 1657747618554, 'E': 1657747618558}\n",
      "{'u': 507946701529, 'e': 'bookTicker', 's': 'BTCUSD_PERP', 'ps': 'BTCUSD', 'b': '19739.2', 'B': '5968', 'a': '19739.3', 'A': '532', 'T': 1657747618554, 'E': 1657747618558}\n",
      "{'u': 507946701530, 'e': 'bookTicker', 's': 'BTCUSD_PERP', 'ps': 'BTCUSD', 'b': '19739.2', 'B': '5968', 'a': '19739.3', 'A': '528', 'T': 1657747618554, 'E': 1657747618558}\n",
      "{'u': 507946701536, 'e': 'bookTicker', 's': 'BTCUSD_PERP', 'ps': 'BTCUSD', 'b': '19739.2', 'B': '5968', 'a': '19739.3', 'A': '532', 'T': 1657747618559, 'E': 1657747618564}\n",
      "{'u': 507946701540, 'e': 'bookTicker', 's': 'BTCUSD_PERP', 'ps': 'BTCUSD', 'b': '19739.2', 'B': '5968', 'a': '19739.3', 'A': '536', 'T': 1657747618561, 'E': 1657747618567}\n",
      "{'u': 507946701551, 'e': 'bookTicker', 's': 'BTCUSD_PERP', 'ps': 'BTCUSD', 'b': '19739.2', 'B': '5968', 'a': '19739.3', 'A': '540', 'T': 1657747618566, 'E': 1657747618570}\n",
      "{'u': 507946701553, 'e': 'bookTicker', 's': 'BTCUSD_PERP', 'ps': 'BTCUSD', 'b': '19739.2', 'B': '5869', 'a': '19739.3', 'A': '540', 'T': 1657747618567, 'E': 1657747618572}\n",
      "{'u': 507946701577, 'e': 'bookTicker', 's': 'BTCUSD_PERP', 'ps': 'BTCUSD', 'b': '19739.2', 'B': '5652', 'a': '19739.3', 'A': '540', 'T': 1657747618571, 'E': 1657747618578}\n",
      "{'u': 507946701579, 'e': 'bookTicker', 's': 'BTCUSD_PERP', 'ps': 'BTCUSD', 'b': '19739.2', 'B': '5173', 'a': '19739.3', 'A': '540', 'T': 1657747618574, 'E': 1657747618580}\n",
      "{'u': 507946701594, 'e': 'bookTicker', 's': 'BTCUSD_PERP', 'ps': 'BTCUSD', 'b': '19739.2', 'B': '5426', 'a': '19739.3', 'A': '540', 'T': 1657747618580, 'E': 1657747618585}\n",
      "{'u': 507946701595, 'e': 'bookTicker', 's': 'BTCUSD_PERP', 'ps': 'BTCUSD', 'b': '19739.2', 'B': '5889', 'a': '19739.3', 'A': '540', 'T': 1657747618580, 'E': 1657747618585}\n",
      "{'u': 507946701598, 'e': 'bookTicker', 's': 'BTCUSD_PERP', 'ps': 'BTCUSD', 'b': '19739.2', 'B': '5889', 'a': '19739.3', 'A': '536', 'T': 1657747618581, 'E': 1657747618587}\n",
      "{'u': 507946701601, 'e': 'bookTicker', 's': 'BTCUSD_PERP', 'ps': 'BTCUSD', 'b': '19739.2', 'B': '5889', 'a': '19739.3', 'A': '532', 'T': 1657747618584, 'E': 1657747618589}\n",
      "{'u': 507946701604, 'e': 'bookTicker', 's': 'BTCUSD_PERP', 'ps': 'BTCUSD', 'b': '19739.2', 'B': '5889', 'a': '19739.3', 'A': '528', 'T': 1657747618586, 'E': 1657747618591}\n",
      "{'u': 507946701636, 'e': 'bookTicker', 's': 'BTCUSD_PERP', 'ps': 'BTCUSD', 'b': '19739.2', 'B': '5636', 'a': '19739.3', 'A': '528', 'T': 1657747618601, 'E': 1657747618605}\n",
      "{'u': 507946701637, 'e': 'bookTicker', 's': 'BTCUSD_PERP', 'ps': 'BTCUSD', 'b': '19739.2', 'B': '5173', 'a': '19739.3', 'A': '528', 'T': 1657747618601, 'E': 1657747618607}\n",
      "{'u': 507946701643, 'e': 'bookTicker', 's': 'BTCUSD_PERP', 'ps': 'BTCUSD', 'b': '19739.2', 'B': '5380', 'a': '19739.3', 'A': '528', 'T': 1657747618607, 'E': 1657747618614}\n",
      "{'u': 507946701664, 'e': 'bookTicker', 's': 'BTCUSD_PERP', 'ps': 'BTCUSD', 'b': '19739.2', 'B': '5173', 'a': '19739.3', 'A': '528', 'T': 1657747618623, 'E': 1657747618628}\n",
      "{'u': 507946701684, 'e': 'bookTicker', 's': 'BTCUSD_PERP', 'ps': 'BTCUSD', 'b': '19739.2', 'B': '5378', 'a': '19739.3', 'A': '528', 'T': 1657747618631, 'E': 1657747618637}\n",
      "{'u': 507946701698, 'e': 'bookTicker', 's': 'BTCUSD_PERP', 'ps': 'BTCUSD', 'b': '19739.2', 'B': '5173', 'a': '19739.3', 'A': '528', 'T': 1657747618646, 'E': 1657747618650}\n",
      "{'u': 507946701707, 'e': 'bookTicker', 's': 'BTCUSD_PERP', 'ps': 'BTCUSD', 'b': '19739.2', 'B': '5376', 'a': '19739.3', 'A': '528', 'T': 1657747618653, 'E': 1657747618658}\n",
      "{'u': 507946701708, 'e': 'bookTicker', 's': 'BTCUSD_PERP', 'ps': 'BTCUSD', 'b': '19739.2', 'B': '5795', 'a': '19739.3', 'A': '528', 'T': 1657747618653, 'E': 1657747618658}\n",
      "{'u': 507946701773, 'e': 'bookTicker', 's': 'BTCUSD_PERP', 'ps': 'BTCUSD', 'b': '19739.2', 'B': '5376', 'a': '19739.3', 'A': '528', 'T': 1657747618671, 'E': 1657747618674}\n",
      "{'u': 507946701775, 'e': 'bookTicker', 's': 'BTCUSD_PERP', 'ps': 'BTCUSD', 'b': '19739.2', 'B': '5173', 'a': '19739.3', 'A': '528', 'T': 1657747618671, 'E': 1657747618674}\n",
      "{'u': 507946701807, 'e': 'bookTicker', 's': 'BTCUSD_PERP', 'ps': 'BTCUSD', 'b': '19739.2', 'B': '5406', 'a': '19739.3', 'A': '528', 'T': 1657747618678, 'E': 1657747618685}\n",
      "{'u': 507946701838, 'e': 'bookTicker', 's': 'BTCUSD_PERP', 'ps': 'BTCUSD', 'b': '19739.2', 'B': '5805', 'a': '19739.3', 'A': '528', 'T': 1657747618684, 'E': 1657747618692}\n",
      "{'u': 507946701901, 'e': 'bookTicker', 's': 'BTCUSD_PERP', 'ps': 'BTCUSD', 'b': '19739.2', 'B': '5572', 'a': '19739.3', 'A': '528', 'T': 1657747618705, 'E': 1657747618708}\n",
      "{'u': 507946701912, 'e': 'bookTicker', 's': 'BTCUSD_PERP', 'ps': 'BTCUSD', 'b': '19739.2', 'B': '5173', 'a': '19739.3', 'A': '528', 'T': 1657747618707, 'E': 1657747618713}\n",
      "{'u': 507946701973, 'e': 'bookTicker', 's': 'BTCUSD_PERP', 'ps': 'BTCUSD', 'b': '19739.2', 'B': '5382', 'a': '19739.3', 'A': '528', 'T': 1657747618727, 'E': 1657747618735}\n",
      "{'u': 507946702017, 'e': 'bookTicker', 's': 'BTCUSD_PERP', 'ps': 'BTCUSD', 'b': '19739.2', 'B': '5173', 'a': '19739.3', 'A': '528', 'T': 1657747618742, 'E': 1657747618748}\n",
      "{'u': 507946702076, 'e': 'bookTicker', 's': 'BTCUSD_PERP', 'ps': 'BTCUSD', 'b': '19739.2', 'B': '5414', 'a': '19739.3', 'A': '528', 'T': 1657747618760, 'E': 1657747618768}\n",
      "{'u': 507946702100, 'e': 'bookTicker', 's': 'BTCUSD_PERP', 'ps': 'BTCUSD', 'b': '19739.2', 'B': '5664', 'a': '19739.3', 'A': '528', 'T': 1657747618765, 'E': 1657747618771}\n",
      "{'u': 507946702127, 'e': 'bookTicker', 's': 'BTCUSD_PERP', 'ps': 'BTCUSD', 'b': '19739.2', 'B': '6158', 'a': '19739.3', 'A': '528', 'T': 1657747618774, 'E': 1657747618777}\n",
      "{'u': 507946702173, 'e': 'bookTicker', 's': 'BTCUSD_PERP', 'ps': 'BTCUSD', 'b': '19739.2', 'B': '5917', 'a': '19739.3', 'A': '528', 'T': 1657747618784, 'E': 1657747618789}\n",
      "{'u': 507946702176, 'e': 'bookTicker', 's': 'BTCUSD_PERP', 'ps': 'BTCUSD', 'b': '19739.2', 'B': '5423', 'a': '19739.3', 'A': '528', 'T': 1657747618784, 'E': 1657747618789}\n",
      "{'u': 507946702194, 'e': 'bookTicker', 's': 'BTCUSD_PERP', 'ps': 'BTCUSD', 'b': '19739.2', 'B': '5656', 'a': '19739.3', 'A': '528', 'T': 1657747618790, 'E': 1657747618795}\n",
      "{'u': 507946702214, 'e': 'bookTicker', 's': 'BTCUSD_PERP', 'ps': 'BTCUSD', 'b': '19739.2', 'B': '6154', 'a': '19739.3', 'A': '528', 'T': 1657747618796, 'E': 1657747618800}\n",
      "{'u': 507946702287, 'e': 'bookTicker', 's': 'BTCUSD_PERP', 'ps': 'BTCUSD', 'b': '19739.2', 'B': '5656', 'a': '19739.3', 'A': '528', 'T': 1657747618809, 'E': 1657747618814}\n"
     ]
    },
    {
     "name": "stdout",
     "output_type": "stream",
     "text": [
      "{'u': 507946702288, 'e': 'bookTicker', 's': 'BTCUSD_PERP', 'ps': 'BTCUSD', 'b': '19739.2', 'B': '5423', 'a': '19739.3', 'A': '528', 'T': 1657747618809, 'E': 1657747618814}\n",
      "{'u': 507946702312, 'e': 'bookTicker', 's': 'BTCUSD_PERP', 'ps': 'BTCUSD', 'b': '19739.2', 'B': '5632', 'a': '19739.3', 'A': '528', 'T': 1657747618816, 'E': 1657747618823}\n",
      "{'u': 507946702337, 'e': 'bookTicker', 's': 'BTCUSD_PERP', 'ps': 'BTCUSD', 'b': '19739.2', 'B': '6115', 'a': '19739.3', 'A': '528', 'T': 1657747618826, 'E': 1657747618831}\n",
      "{'u': 507946702362, 'e': 'bookTicker', 's': 'BTCUSD_PERP', 'ps': 'BTCUSD', 'b': '19739.2', 'B': '5906', 'a': '19739.3', 'A': '528', 'T': 1657747618834, 'E': 1657747618841}\n",
      "{'u': 507946702423, 'e': 'bookTicker', 's': 'BTCUSD_PERP', 'ps': 'BTCUSD', 'b': '19739.2', 'B': '6115', 'a': '19739.3', 'A': '528', 'T': 1657747618845, 'E': 1657747618850}\n",
      "{'u': 507946702425, 'e': 'bookTicker', 's': 'BTCUSD_PERP', 'ps': 'BTCUSD', 'b': '19739.2', 'B': '5632', 'a': '19739.3', 'A': '528', 'T': 1657747618846, 'E': 1657747618853}\n",
      "{'u': 507946702461, 'e': 'bookTicker', 's': 'BTCUSD_PERP', 'ps': 'BTCUSD', 'b': '19739.2', 'B': '6099', 'a': '19739.3', 'A': '528', 'T': 1657747618857, 'E': 1657747618865}\n",
      "{'u': 507946702506, 'e': 'bookTicker', 's': 'BTCUSD_PERP', 'ps': 'BTCUSD', 'b': '19739.2', 'B': '5890', 'a': '19739.3', 'A': '528', 'T': 1657747618864, 'E': 1657747618869}\n",
      "{'u': 507946702511, 'e': 'bookTicker', 's': 'BTCUSD_PERP', 'ps': 'BTCUSD', 'b': '19739.2', 'B': '5890', 'a': '19739.3', 'A': '524', 'T': 1657747618865, 'E': 1657747618869}\n",
      "{'u': 507946702539, 'e': 'bookTicker', 's': 'BTCUSD_PERP', 'ps': 'BTCUSD', 'b': '19739.2', 'B': '6115', 'a': '19739.3', 'A': '524', 'T': 1657747618871, 'E': 1657747618877}\n",
      "{'u': 507946702562, 'e': 'bookTicker', 's': 'BTCUSD_PERP', 'ps': 'BTCUSD', 'b': '19739.2', 'B': '6115', 'a': '19739.3', 'A': '528', 'T': 1657747618875, 'E': 1657747618883}\n",
      "{'u': 507946702583, 'e': 'bookTicker', 's': 'BTCUSD_PERP', 'ps': 'BTCUSD', 'b': '19739.2', 'B': '6115', 'a': '19739.3', 'A': '532', 'T': 1657747618879, 'E': 1657747618885}\n",
      "{'u': 507946702622, 'e': 'bookTicker', 's': 'BTCUSD_PERP', 'ps': 'BTCUSD', 'b': '19739.2', 'B': '6115', 'a': '19739.3', 'A': '536', 'T': 1657747618886, 'E': 1657747618890}\n",
      "{'u': 507946702641, 'e': 'bookTicker', 's': 'BTCUSD_PERP', 'ps': 'BTCUSD', 'b': '19739.2', 'B': '6115', 'a': '19739.3', 'A': '540', 'T': 1657747618890, 'E': 1657747618895}\n",
      "{'u': 507946702645, 'e': 'bookTicker', 's': 'BTCUSD_PERP', 'ps': 'BTCUSD', 'b': '19739.2', 'B': '5890', 'a': '19739.3', 'A': '540', 'T': 1657747618891, 'E': 1657747618895}\n",
      "{'u': 507946702651, 'e': 'bookTicker', 's': 'BTCUSD_PERP', 'ps': 'BTCUSD', 'b': '19739.2', 'B': '5890', 'a': '19739.3', 'A': '544', 'T': 1657747618894, 'E': 1657747618901}\n",
      "{'u': 507946702667, 'e': 'bookTicker', 's': 'BTCUSD_PERP', 'ps': 'BTCUSD', 'b': '19739.2', 'B': '5423', 'a': '19739.3', 'A': '544', 'T': 1657747618898, 'E': 1657747618904}\n",
      "{'u': 507946702680, 'e': 'bookTicker', 's': 'BTCUSD_PERP', 'ps': 'BTCUSD', 'b': '19739.2', 'B': '5650', 'a': '19739.3', 'A': '544', 'T': 1657747618900, 'E': 1657747618906}\n",
      "{'u': 507946702682, 'e': 'bookTicker', 's': 'BTCUSD_PERP', 'ps': 'BTCUSD', 'b': '19739.2', 'B': '5650', 'a': '19739.3', 'A': '540', 'T': 1657747618902, 'E': 1657747618906}\n",
      "{'u': 507946702696, 'e': 'bookTicker', 's': 'BTCUSD_PERP', 'ps': 'BTCUSD', 'b': '19739.2', 'B': '5650', 'a': '19739.3', 'A': '536', 'T': 1657747618906, 'E': 1657747618913}\n",
      "{'u': 507946702701, 'e': 'bookTicker', 's': 'BTCUSD_PERP', 'ps': 'BTCUSD', 'b': '19739.2', 'B': '5650', 'a': '19739.3', 'A': '532', 'T': 1657747618908, 'E': 1657747618915}\n",
      "{'u': 507946702727, 'e': 'bookTicker', 's': 'BTCUSD_PERP', 'ps': 'BTCUSD', 'b': '19739.2', 'B': '5650', 'a': '19739.3', 'A': '536', 'T': 1657747618914, 'E': 1657747618919}\n",
      "{'u': 507946702731, 'e': 'bookTicker', 's': 'BTCUSD_PERP', 'ps': 'BTCUSD', 'b': '19739.2', 'B': '5423', 'a': '19739.3', 'A': '536', 'T': 1657747618915, 'E': 1657747618922}\n",
      "{'u': 507946702742, 'e': 'bookTicker', 's': 'BTCUSD_PERP', 'ps': 'BTCUSD', 'b': '19739.2', 'B': '5874', 'a': '19739.3', 'A': '536', 'T': 1657747618919, 'E': 1657747618925}\n",
      "{'u': 507946702750, 'e': 'bookTicker', 's': 'BTCUSD_PERP', 'ps': 'BTCUSD', 'b': '19739.2', 'B': '5874', 'a': '19739.3', 'A': '535', 'T': 1657747618920, 'E': 1657747618925}\n",
      "{'u': 507946702751, 'e': 'bookTicker', 's': 'BTCUSD_PERP', 'ps': 'BTCUSD', 'b': '19739.2', 'B': '5874', 'a': '19739.3', 'A': '531', 'T': 1657747618921, 'E': 1657747618925}\n",
      "{'u': 507946702754, 'e': 'bookTicker', 's': 'BTCUSD_PERP', 'ps': 'BTCUSD', 'b': '19739.2', 'B': '6099', 'a': '19739.3', 'A': '531', 'T': 1657747618921, 'E': 1657747618925}\n",
      "{'u': 507946702788, 'e': 'bookTicker', 's': 'BTCUSD_PERP', 'ps': 'BTCUSD', 'b': '19739.2', 'B': '6099', 'a': '19739.3', 'A': '527', 'T': 1657747618937, 'E': 1657747618942}\n",
      "{'u': 507946702848, 'e': 'bookTicker', 's': 'BTCUSD_PERP', 'ps': 'BTCUSD', 'b': '19739.2', 'B': '5648', 'a': '19739.3', 'A': '527', 'T': 1657747618962, 'E': 1657747618966}\n",
      "{'u': 507946702849, 'e': 'bookTicker', 's': 'BTCUSD_PERP', 'ps': 'BTCUSD', 'b': '19739.2', 'B': '5423', 'a': '19739.3', 'A': '527', 'T': 1657747618962, 'E': 1657747618966}\n",
      "{'u': 507946702869, 'e': 'bookTicker', 's': 'BTCUSD_PERP', 'ps': 'BTCUSD', 'b': '19739.2', 'B': '5862', 'a': '19739.3', 'A': '527', 'T': 1657747618968, 'E': 1657747618972}\n",
      "{'u': 507946702882, 'e': 'bookTicker', 's': 'BTCUSD_PERP', 'ps': 'BTCUSD', 'b': '19739.2', 'B': '6077', 'a': '19739.3', 'A': '527', 'T': 1657747618973, 'E': 1657747618977}\n",
      "{'u': 507946702923, 'e': 'bookTicker', 's': 'BTCUSD_PERP', 'ps': 'BTCUSD', 'b': '19739.2', 'B': '5638', 'a': '19739.3', 'A': '527', 'T': 1657747618985, 'E': 1657747618992}\n",
      "{'u': 507946702929, 'e': 'bookTicker', 's': 'BTCUSD_PERP', 'ps': 'BTCUSD', 'b': '19739.2', 'B': '5423', 'a': '19739.3', 'A': '527', 'T': 1657747618985, 'E': 1657747618992}\n",
      "{'u': 507946702974, 'e': 'bookTicker', 's': 'BTCUSD_PERP', 'ps': 'BTCUSD', 'b': '19739.2', 'B': '5630', 'a': '19739.3', 'A': '527', 'T': 1657747618992, 'E': 1657747618997}\n",
      "{'u': 507946702975, 'e': 'bookTicker', 's': 'BTCUSD_PERP', 'ps': 'BTCUSD', 'b': '19739.2', 'B': '6026', 'a': '19739.3', 'A': '527', 'T': 1657747618993, 'E': 1657747618997}\n",
      "{'u': 507946703036, 'e': 'bookTicker', 's': 'BTCUSD_PERP', 'ps': 'BTCUSD', 'b': '19739.2', 'B': '5819', 'a': '19739.3', 'A': '527', 'T': 1657747619005, 'E': 1657747619010}\n",
      "{'u': 507946703043, 'e': 'bookTicker', 's': 'BTCUSD_PERP', 'ps': 'BTCUSD', 'b': '19739.2', 'B': '5820', 'a': '19739.3', 'A': '527', 'T': 1657747619006, 'E': 1657747619012}\n",
      "{'u': 507946703098, 'e': 'bookTicker', 's': 'BTCUSD_PERP', 'ps': 'BTCUSD', 'b': '19739.2', 'B': '5424', 'a': '19739.3', 'A': '527', 'T': 1657747619010, 'E': 1657747619018}\n",
      "{'u': 507946703115, 'e': 'bookTicker', 's': 'BTCUSD_PERP', 'ps': 'BTCUSD', 'b': '19739.2', 'B': '5647', 'a': '19739.3', 'A': '527', 'T': 1657747619011, 'E': 1657747619018}\n",
      "{'u': 507946703215, 'e': 'bookTicker', 's': 'BTCUSD_PERP', 'ps': 'BTCUSD', 'b': '19739.2', 'B': '5424', 'a': '19739.3', 'A': '527', 'T': 1657747619027, 'E': 1657747619032}\n",
      "{'u': 507946703227, 'e': 'bookTicker', 's': 'BTCUSD_PERP', 'ps': 'BTCUSD', 'b': '19739.2', 'B': '5851', 'a': '19739.3', 'A': '527', 'T': 1657747619030, 'E': 1657747619037}\n",
      "{'u': 507946703238, 'e': 'bookTicker', 's': 'BTCUSD_PERP', 'ps': 'BTCUSD', 'b': '19739.2', 'B': '5850', 'a': '19739.3', 'A': '527', 'T': 1657747619031, 'E': 1657747619037}\n",
      "{'u': 507946703252, 'e': 'bookTicker', 's': 'BTCUSD_PERP', 'ps': 'BTCUSD', 'b': '19739.2', 'B': '6069', 'a': '19739.3', 'A': '527', 'T': 1657747619033, 'E': 1657747619039}\n",
      "{'u': 507946703351, 'e': 'bookTicker', 's': 'BTCUSD_PERP', 'ps': 'BTCUSD', 'b': '19739.2', 'B': '5850', 'a': '19739.3', 'A': '527', 'T': 1657747619048, 'E': 1657747619054}\n",
      "{'u': 507946703352, 'e': 'bookTicker', 's': 'BTCUSD_PERP', 'ps': 'BTCUSD', 'b': '19739.2', 'B': '5423', 'a': '19739.3', 'A': '527', 'T': 1657747619048, 'E': 1657747619054}\n",
      "{'u': 507946703381, 'e': 'bookTicker', 's': 'BTCUSD_PERP', 'ps': 'BTCUSD', 'b': '19739.2', 'B': '5672', 'a': '19739.3', 'A': '527', 'T': 1657747619053, 'E': 1657747619060}\n",
      "{'u': 507946703421, 'e': 'bookTicker', 's': 'BTCUSD_PERP', 'ps': 'BTCUSD', 'b': '19739.2', 'B': '6075', 'a': '19739.3', 'A': '527', 'T': 1657747619059, 'E': 1657747619067}\n",
      "{'u': 507946703525, 'e': 'bookTicker', 's': 'BTCUSD_PERP', 'ps': 'BTCUSD', 'b': '19739.2', 'B': '5672', 'a': '19739.3', 'A': '527', 'T': 1657747619074, 'E': 1657747619079}\n",
      "{'u': 507946703526, 'e': 'bookTicker', 's': 'BTCUSD_PERP', 'ps': 'BTCUSD', 'b': '19739.2', 'B': '5423', 'a': '19739.3', 'A': '527', 'T': 1657747619074, 'E': 1657747619079}\n"
     ]
    },
    {
     "name": "stdout",
     "output_type": "stream",
     "text": [
      "{'u': 507946703595, 'e': 'bookTicker', 's': 'BTCUSD_PERP', 'ps': 'BTCUSD', 'b': '19739.2', 'B': '5658', 'a': '19739.3', 'A': '527', 'T': 1657747619085, 'E': 1657747619089}\n",
      "{'u': 507946703605, 'e': 'bookTicker', 's': 'BTCUSD_PERP', 'ps': 'BTCUSD', 'b': '19739.2', 'B': '6065', 'a': '19739.3', 'A': '527', 'T': 1657747619086, 'E': 1657747619092}\n"
     ]
    },
    {
     "ename": "KeyboardInterrupt",
     "evalue": "",
     "output_type": "error",
     "traceback": [
      "\u001b[0;31m---------------------------------------------------------------------------\u001b[0m",
      "\u001b[0;31mKeyboardInterrupt\u001b[0m                         Traceback (most recent call last)",
      "\u001b[0;32m/tmp/ipykernel_2452/1570682888.py\u001b[0m in \u001b[0;36m<module>\u001b[0;34m\u001b[0m\n\u001b[1;32m     16\u001b[0m \u001b[0mtest\u001b[0m \u001b[0;34m=\u001b[0m \u001b[0mmy_client\u001b[0m\u001b[0;34m.\u001b[0m\u001b[0mbook_ticker\u001b[0m\u001b[0;34m(\u001b[0m\u001b[0mid\u001b[0m\u001b[0;34m=\u001b[0m\u001b[0;36m13\u001b[0m\u001b[0;34m,\u001b[0m \u001b[0mcallback\u001b[0m\u001b[0;34m=\u001b[0m\u001b[0mmessage_handler\u001b[0m\u001b[0;34m,\u001b[0m \u001b[0msymbol\u001b[0m\u001b[0;34m=\u001b[0m\u001b[0;34m\"btcusd_perp\"\u001b[0m\u001b[0;34m)\u001b[0m\u001b[0;34m\u001b[0m\u001b[0;34m\u001b[0m\u001b[0m\n\u001b[1;32m     17\u001b[0m \u001b[0;34m\u001b[0m\u001b[0m\n\u001b[0;32m---> 18\u001b[0;31m \u001b[0mtime\u001b[0m\u001b[0;34m.\u001b[0m\u001b[0msleep\u001b[0m\u001b[0;34m(\u001b[0m\u001b[0;36m5\u001b[0m\u001b[0;34m)\u001b[0m\u001b[0;34m\u001b[0m\u001b[0;34m\u001b[0m\u001b[0m\n\u001b[0m\u001b[1;32m     19\u001b[0m \u001b[0;34m\u001b[0m\u001b[0m\n\u001b[1;32m     20\u001b[0m \u001b[0mlogging\u001b[0m\u001b[0;34m.\u001b[0m\u001b[0mdebug\u001b[0m\u001b[0;34m(\u001b[0m\u001b[0;34m\"closing ws connection\"\u001b[0m\u001b[0;34m)\u001b[0m\u001b[0;34m\u001b[0m\u001b[0;34m\u001b[0m\u001b[0m\n",
      "\u001b[0;31mKeyboardInterrupt\u001b[0m: "
     ]
    }
   ],
   "source": [
    "import time\n",
    "import logging\n",
    "from binance.lib.utils import config_logging\n",
    "from binance.websocket.cm_futures.websocket_client import CMFuturesWebsocketClient\n",
    "\n",
    "config_logging(logging, logging.DEBUG)\n",
    "\n",
    "\n",
    "def message_handler(message):\n",
    "    print(message)\n",
    "\n",
    "\n",
    "my_client = CMFuturesWebsocketClient()\n",
    "my_client.start()\n",
    "\n",
    "test = my_client.book_ticker(id=13, callback=message_handler, symbol=\"btcusd_perp\")\n",
    "\n",
    "time.sleep(5)\n",
    "\n",
    "logging.debug(\"closing ws connection\")\n",
    "my_client.stop()"
   ]
  },
  {
   "cell_type": "markdown",
   "id": "6f2aa61a",
   "metadata": {},
   "source": [
    "Ok, now we have managed to get a realtime stream of data of the corresponding symbol into our notebook. Now we need to compute the volatility within a millisecond. Let's see how we can access the data printed in the console. \n",
    "\n",
    "Ok, digged into the source code of the binance-future-connector library and apparently this data is coming from a thread: Complicated stuff. I somehow dont seem how I can access to the thread. We can immediately catch the data printed at the output, but that will a overhead.\n",
    "\n",
    "Let's try another library: unicorn binance library"
   ]
  },
  {
   "cell_type": "markdown",
   "id": "e91238f1",
   "metadata": {},
   "source": [
    "# unicorn_binance_websocket_api"
   ]
  },
  {
   "cell_type": "code",
   "execution_count": 1,
   "id": "f08d1143",
   "metadata": {},
   "outputs": [
    {
     "data": {
      "text/plain": [
       "<Logger unicorn_binance_websocket_api (WARNING)>"
      ]
     },
     "execution_count": 1,
     "metadata": {},
     "output_type": "execute_result"
    }
   ],
   "source": [
    "from unicorn_binance_websocket_api.manager import BinanceWebSocketApiManager\n",
    "import logging\n",
    "import os\n",
    "import time\n",
    "import threading, queue\n",
    "\n",
    "import json\n",
    "from collections import deque\n",
    "import numpy as np\n",
    "\n",
    "logging.getLogger(\"unicorn_binance_websocket_api\")"
   ]
  },
  {
   "cell_type": "markdown",
   "id": "6a91610f",
   "metadata": {},
   "source": [
    "The way this works: there is a streambuffer which is being supplied with data from the binance server. I think this buffer is locked when data is being dumped from the websocket and released when it's done. When we get data from buffer, we empty the buffer. \n",
    "Let's see if we can calculate the volatility from streamed data"
   ]
  },
  {
   "cell_type": "code",
   "execution_count": 2,
   "id": "8a1d18ae",
   "metadata": {},
   "outputs": [
    {
     "name": "stdout",
     "output_type": "stream",
     "text": [
      "max streamsize: None\n"
     ]
    }
   ],
   "source": [
    "def print_stream_data_from_stream_buffer(\n",
    "    binance_websocket_api_manager, rolling_wdw, dataque, volatility_que\n",
    "):\n",
    "    # initialize volatiltiy calculator\n",
    "    oper = proc_Data(window=rolling_wdw)\n",
    "    while True:\n",
    "        #         print('streamsize:',  binance_websocket_api_manager.get_stream_buffer_length())\n",
    "        if binance_websocket_api_manager.is_manager_stopping():\n",
    "            exit(0)\n",
    "        # get data from streambuffer\n",
    "        data_from_stream_buffer = (\n",
    "            binance_websocket_api_manager.pop_stream_data_from_stream_buffer()\n",
    "        )\n",
    "        if data_from_stream_buffer is False:\n",
    "            time.sleep(0.01)\n",
    "        else:\n",
    "            try:\n",
    "                data_dict = json.loads(data_from_stream_buffer)\n",
    "                # uncomment to measure time it takes to calculate volatility\n",
    "#                 t = time.time()\n",
    "                data_volatility = oper.calc_volatility(data_dict)\n",
    "                if data_volatility is not None:\n",
    "                    # uncomment to measure time it takes to calculate volatility\n",
    "                    # print (\"time to calculate volatility: \", time.time()-t)\n",
    "                    volatility_que.append(data_volatility)\n",
    "                #\n",
    "                dataque.append(\n",
    "                    [\n",
    "                        data_dict[\"data\"][\"T\"],\n",
    "                        data_dict[\"data\"][\"a\"],\n",
    "                        data_dict[\"data\"][\"b\"],\n",
    "                    ]\n",
    "                )\n",
    "\n",
    "            except KeyError:\n",
    "                pass\n",
    "\n",
    "\n",
    "def start_websocket_listener(rolling_wdw, dataque, volatility_que):\n",
    "    # create instance of BinanceWebSocketApiManager and\n",
    "    # provide the function for stream processing\n",
    "    binance_websocket_api_manager = BinanceWebSocketApiManager(\n",
    "        exchange=\"binance.com-coin_futures\"\n",
    "    )\n",
    "    # create streams\n",
    "    bookTicker_arr_stream_id = binance_websocket_api_manager.create_stream(\n",
    "        channels=\"bookTicker\", markets=\"btcusd_perp\"\n",
    "    )\n",
    "\n",
    "    print(\"max streamsize:\", binance_websocket_api_manager.get_stream_buffer_maxlen())\n",
    "    # start one worker process (or more) to move the\n",
    "    # received stream_data from the stream_buffer to a print function\n",
    "    worker_thread = threading.Thread(\n",
    "        target=print_stream_data_from_stream_buffer,\n",
    "        args=(binance_websocket_api_manager, rolling_wdw, dataque, volatility_que),\n",
    "    )\n",
    "    worker_thread.start()\n",
    "\n",
    "\n",
    "class proc_Data:\n",
    "    def __init__(self, window=200):\n",
    "        # initializing buffer and rolling window\n",
    "        self.buffer = deque()\n",
    "        self.ti = deque()\n",
    "        self.window = window\n",
    "        self.flag = False\n",
    "        self.dt = 0\n",
    "\n",
    "    def construct_window(self, data_dict):\n",
    "        if self.flag:\n",
    "            # remove first element from buffer from the left and add new elements to have\n",
    "            # a new 200 ms buffer\n",
    "            self.ti.popleft()\n",
    "            self.buffer.popleft()\n",
    "            self.dt = np.sum(np.diff(np.array(self.ti)))\n",
    "            self.flag = False\n",
    "\n",
    "        if self.dt <= self.window:  # fill buffer up to 200 ms\n",
    "            self.ti.append(data_dict[\"data\"][\"T\"])\n",
    "            self.buffer.append(\n",
    "                [data_dict[\"data\"][\"T\"], data_dict[\"data\"][\"b\"], data_dict[\"data\"][\"a\"]]\n",
    "            )\n",
    "\n",
    "            self.dt = np.sum(np.diff(np.array(self.ti)))\n",
    "\n",
    "        else:\n",
    "            # execute when buffer is full\n",
    "            self.flag = True\n",
    "            rol_window = np.array(self.buffer, dtype=np.float64)\n",
    "            return rol_window\n",
    "\n",
    "    def calc_volatility(self, data_dict):\n",
    "\n",
    "        rlw = self.construct_window(data_dict)\n",
    "        if rlw is None:\n",
    "            pass\n",
    "\n",
    "        else:\n",
    "\n",
    "            _, idx = np.unique(rlw[:, 0], return_index=True)\n",
    "            _rlw = np.zeros((len(idx), 2))\n",
    "            _rlw[:, 0] = rlw[idx, 0]  # timestamp\n",
    "            _rlw[:, 1] = (rlw[idx, 1] + rlw[idx, 2]) / 2  # midprice\n",
    "            diff_arr = np.diff(_rlw, axis=0)  # difference (midprice_t - midprice_t-1)\n",
    "            volt_t = np.sum(\n",
    "                np.abs(diff_arr[:, 1] / _rlw[1:, 1]) / diff_arr[:, 0]\n",
    "            ) / len(diff_arr)  # rolling derivative average\n",
    "\n",
    "            return [_rlw[-1, 0], volt_t]\n",
    "\n",
    "\n",
    "# deque datastructures have O(1) complexity, whereas lists have O(n) when indexing or using pop,\n",
    "# see test below\n",
    "\n",
    "dataque = deque()  # Que to store realtime stream\n",
    "volatility_que = deque()  # Que to store volatility\n",
    "rolling_wdw = 200  # ms\n",
    "start_websocket_listener(\n",
    "    rolling_wdw, dataque, volatility_que\n",
    ")  # start stream and store data in ques"
   ]
  },
  {
   "attachments": {
    "image-2.png": {
     "image/png": "[encoded data removed]"
    }
   },
   "cell_type": "markdown",
   "id": "59d45036",
   "metadata": {},
   "source": [
    "Ok, what have we done till so far?\n",
    "\n",
    "- I am able to get orderbook data from the server. One thing I notice, is that the server bid/ask prices obtained with the current API does not match the price in our browser; why is that?\n",
    "\n",
    "- I implemented a rolling window that calculated the volatility of a given asset. The window size is adjustable\n",
    "\n",
    "- I notice that there are multiple orders that occurred at the same transaction time, but also several orders that contain the same price. I remove those that happened at the same time, because those have the same price and therefore do not add any new information\n",
    "\n",
    "- Lastly, when I remove all the print statement, my code is able to calculate the volatility in below a millisecond (unit below is seconds). On average 200/300 microseconds <br>\n",
    "![image-2.png](attachment:image-2.png)\n",
    "\n",
    "- It is possible to do this faster. We have to code the function that calculates the volatility in C and then call this using cython.\n",
    "\n",
    "- Let's see if we can plot this streaming data "
   ]
  },
  {
   "cell_type": "markdown",
   "id": "f8a15e13",
   "metadata": {},
   "source": [
    "The volatility metric is calculated with <br>\n",
    "midprice = m(t) <br>\n",
    "askprice = a(t) <br>\n",
    "bidprice = b(t) <br>\n",
    "$\\rm m(t)  = \\frac{b(t) + a(t)}{2}$<br>\n",
    "$\\rm Volatility = \\frac{1}{n} \\sum_t \\bigl|\\frac{\\frac{m(t) - m(t-1)}{m(t)}}{dt}\\bigr| $\n",
    "\n",
    "Looks like an average of the time derivative of the midprice ( to get this in percentage/s, multiply by 1e5). "
   ]
  },
  {
   "cell_type": "markdown",
   "id": "a974a3ab",
   "metadata": {},
   "source": [
    "# Plotly/Dash: plotting live data"
   ]
  },
  {
   "cell_type": "code",
   "execution_count": 3,
   "id": "f2b45e46",
   "metadata": {},
   "outputs": [
    {
     "name": "stdout",
     "output_type": "stream",
     "text": [
      "Dash is running on http://10.164.0.4:8050/\n",
      "\n",
      " * Serving Flask app \"__main__\" (lazy loading)\n",
      " * Environment: production\n",
      "   WARNING: This is a development server. Do not use it in a production deployment.\n",
      "   Use a production WSGI server instead.\n",
      " * Debug mode: off\n"
     ]
    },
    {
     "name": "stderr",
     "output_type": "stream",
     "text": [
      " * Running on http://10.164.0.4:8050/ (Press CTRL+C to quit)\n",
      "92.110.1.169 - - [13/Jul/2022 21:29:25] \"POST /_dash-update-component HTTP/1.1\" 200 -\n",
      "92.110.1.169 - - [13/Jul/2022 21:29:26] \"POST /_dash-update-component HTTP/1.1\" 200 -\n",
      "92.110.1.169 - - [13/Jul/2022 21:29:28] \"POST /_dash-update-component HTTP/1.1\" 200 -\n"
     ]
    }
   ],
   "source": [
    "import dash\n",
    "from dash import html\n",
    "from dash import dcc\n",
    "from dash.dependencies import Input, Output\n",
    "import plotly\n",
    "import plotly.graph_objs as go\n",
    "import pandas as pd\n",
    "\n",
    "# configuring plotly parameters and used Dash app to plot live price and\n",
    "# volatility data in browser\n",
    "class display_bookTicker:\n",
    "    \n",
    "    def __init__(self, datastream, voltstream):\n",
    "        self.stream = datastream\n",
    "        self.vstream = voltstream\n",
    "        self.t_stamp = deque()\n",
    "        self.volt_t_stamp = deque()\n",
    "        self.price = deque()\n",
    "\n",
    "        self.app = dash.Dash()\n",
    "        # configuring layout in browser\n",
    "        self.app.layout = html.Div(\n",
    "            [\n",
    "                html.Div(\n",
    "                    [\n",
    "                        html.H1(\n",
    "                            children=\"COIN-M BTCUSDT (perp) LIVE TRACKING\",\n",
    "                            style={\"color\": \"#d486f0\", \"backgroundColor\": \"#18191c\",},\n",
    "                        )\n",
    "                    ],\n",
    "                    className=\"row\",\n",
    "                ),\n",
    "                html.Div(\n",
    "                    [  ### FIGURES Divs\n",
    "                        html.Div(\n",
    "                            [\n",
    "                                dcc.Graph(id=\"fig_1\",),\n",
    "                                dcc.Interval(\n",
    "                                    id=\"fig_1_update\", interval=1200, n_intervals=0\n",
    "                                ),\n",
    "                            ],\n",
    "                            className=\"pricefig\",\n",
    "                        ),\n",
    "                        html.Div(\n",
    "                            [\n",
    "                                dcc.Graph(id=\"fig_2\"),\n",
    "                                dcc.Interval(\n",
    "                                    id=\"fig_2_update\", interval=1200, n_intervals=0\n",
    "                                ),\n",
    "                            ],\n",
    "                            className=\"voltfig\",\n",
    "                        ),\n",
    "                    ],\n",
    "                    className=\"row\",\n",
    "                ),\n",
    "            ]\n",
    "        )\n",
    "        # call back to continiously update figures\n",
    "        self.app.callback(\n",
    "            [Output(\"fig_1\", \"figure\"), Output(\"fig_2\", \"figure\")],\n",
    "            Input(\"fig_1_update\", \"n_intervals\"),\n",
    "        )(self.update_graph)\n",
    "\n",
    "    # callback function\n",
    "    def update_graph(self, n):\n",
    "        _tempdata = np.array(self.stream, dtype=np.float64)\n",
    "        _timest = pd.Series(_tempdata[:, 0]) * 1e-3\n",
    "        timest = pd.to_datetime(_timest, unit=\"s\")\n",
    "\n",
    "        fig_1 = go.Figure(\n",
    "            data=[\n",
    "                go.Scatter(\n",
    "                    x=timest, y=_tempdata[:, 1], name=\"askprice\", showlegend=True\n",
    "                ),\n",
    "                go.Scatter(\n",
    "                    x=timest,\n",
    "                    y=_tempdata[:, 2],\n",
    "                    name=\"bidprice\",\n",
    "                    showlegend=True,\n",
    "                    marker=dict(color=\"green\"),\n",
    "                ),\n",
    "            ],\n",
    "        )\n",
    "\n",
    "        fig_1.update_layout(title=\"price\", yaxis=dict(tickformat=\".1f\"))\n",
    "\n",
    "        _tempvoltdata = np.array(self.vstream, dtype=np.float64)\n",
    "        _timestvolt = pd.Series(_tempvoltdata[:, 0]) * 1e-3\n",
    "        timestvolt = pd.to_datetime(_timestvolt, unit=\"s\")\n",
    "\n",
    "        fig_2 = go.Figure(\n",
    "            data=go.Scatter(\n",
    "                x=timestvolt,\n",
    "                y=_tempvoltdata[:, 1] * 1e5,\n",
    "                name=\"Volatility\",\n",
    "                showlegend=True,\n",
    "                marker=dict(color=\"red\"),\n",
    "            )\n",
    "        )\n",
    "\n",
    "        fig_2.update_layout(\n",
    "            title=\"Volatility\",\n",
    "            yaxis=dict(tickformat=\".2f\", title=\"Percentage Change/s\"),\n",
    "        )\n",
    "\n",
    "        return [fig_1, fig_2]\n",
    "\n",
    "\n",
    "if __name__ == \"__main__\":\n",
    "    show_ticker = display_bookTicker(dataque, volatility_que)\n",
    "    # I run this code on google cloud computing engine on port 8050\n",
    "    show_ticker.app.run_server(host=\"10.164.0.4\", port=\"8050\")"
   ]
  },
  {
   "cell_type": "markdown",
   "id": "66ec5c67",
   "metadata": {},
   "source": [
    "For demonstration purposes of what the plotting code above displays\n",
    "<img src=\"livetracking.gif\" width=\"750\" align=\"center\">"
   ]
  },
  {
   "cell_type": "markdown",
   "id": "e56a8596",
   "metadata": {},
   "source": [
    "Live tracker is based on https://www.binance.com/en/futures/BTCUSDT"
   ]
  },
  {
   "cell_type": "markdown",
   "id": "d4cf3733",
   "metadata": {},
   "source": [
    "# Testing "
   ]
  },
  {
   "cell_type": "code",
   "execution_count": 4,
   "id": "c24120f3",
   "metadata": {},
   "outputs": [
    {
     "name": "stdout",
     "output_type": "stream",
     "text": [
      "MainThread\n",
      "IOPub\n",
      "Heartbeat\n",
      "Thread-3\n",
      "Thread-4\n",
      "Control\n",
      "IPythonHistorySavingThread\n",
      "Thread-2\n",
      "frequent_checks\n",
      "keepalive_streams\n",
      "_create_stream_thread:  stream_id=2c3fd504ecbc-c03d-2248-9398-55eeb599, time=1657747760.2326465\n",
      "ThreadPoolExecutor-0_0\n",
      "Thread-6\n"
     ]
    }
   ],
   "source": [
    "for thread in threading.enumerate(): \n",
    "    print(thread.name)"
   ]
  },
  {
   "cell_type": "markdown",
   "id": "c0944c1a",
   "metadata": {},
   "source": [
    "What's the difference in performance between using list and deque for storing data and obtaining data. For example in using a rolling window to remove and add new elements"
   ]
  },
  {
   "cell_type": "code",
   "execution_count": 5,
   "id": "09bcbd13",
   "metadata": {},
   "outputs": [
    {
     "name": "stdout",
     "output_type": "stream",
     "text": [
      "6.88 ms ± 104 µs per loop (mean ± std. dev. of 7 runs, 100 loops each)\n",
      "62.1 ns ± 1.23 ns per loop (mean ± std. dev. of 7 runs, 10000000 loops each)\n"
     ]
    }
   ],
   "source": [
    "s = list(range(10000000))\n",
    "\n",
    "d = deque(s)\n",
    "\n",
    "s_append, s_pop = s.append, s.pop\n",
    "\n",
    "d_append, d_pop = d.append, d.popleft\n",
    "\n",
    "%timeit s_pop(0); s_append(None)\n",
    "\n",
    "%timeit d_pop(); d_append(None)"
   ]
  },
  {
   "cell_type": "markdown",
   "id": "0c61ddbb",
   "metadata": {},
   "source": [
    "Deques have O(1) speed for appendleft() and popleft() while lists have O(n) performance for insert(0, value) and pop(0)."
   ]
  },
  {
   "cell_type": "code",
   "execution_count": null,
   "id": "3d79cf2b",
   "metadata": {},
   "outputs": [],
   "source": []
  }
 ],
 "metadata": {
  "jupytext": {
   "formats": "ipynb,md"
  },
  "kernelspec": {
   "display_name": "Python 3 (ipykernel)",
   "language": "python",
   "name": "python3"
  },
  "language_info": {
   "codemirror_mode": {
    "name": "ipython",
    "version": 3
   },
   "file_extension": ".py",
   "mimetype": "text/x-python",
   "name": "python",
   "nbconvert_exporter": "python",
   "pygments_lexer": "ipython3",
   "version": "3.7.13"
  },
  "toc": {
   "base_numbering": 1,
   "nav_menu": {},
   "number_sections": true,
   "sideBar": true,
   "skip_h1_title": false,
   "title_cell": "Table of Contents",
   "title_sidebar": "Contents",
   "toc_cell": false,
   "toc_position": {},
   "toc_section_display": true,
   "toc_window_display": false
  }
 },
 "nbformat": 4,
 "nbformat_minor": 5
}
